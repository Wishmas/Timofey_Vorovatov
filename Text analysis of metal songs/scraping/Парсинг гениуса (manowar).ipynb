{
 "cells": [
  {
   "cell_type": "code",
   "execution_count": 1,
   "id": "00433c1e",
   "metadata": {},
   "outputs": [],
   "source": [
    "import requests\n",
    "from bs4 import BeautifulSoup\n",
    "import lxml\n",
    "from time import sleep\n",
    "import re"
   ]
  },
  {
   "cell_type": "code",
   "execution_count": 12,
   "id": "ffc9089e",
   "metadata": {},
   "outputs": [],
   "source": [
    "alb_list = ['Battle Hymns','Into Glory Ride','Hail To England','Sign Of The Hammer','Fighting The World','Kings Of Metal',\n",
    "           'The Triumph Of Steel','Louder Than Hell','Warriors Of The World','Gods Of War','Battle Hymns MMXI']\n",
    "songs_list = []"
   ]
  },
  {
   "cell_type": "code",
   "execution_count": 13,
   "id": "7fb112fb",
   "metadata": {},
   "outputs": [
    {
     "name": "stdout",
     "output_type": "stream",
     "text": [
      "done\n"
     ]
    }
   ],
   "source": [
    "headers =  {\"User-Agent\": \"Mozilla/4.0 (Windows NT 7.0; Win64; x64) AppleWebKit/987.32 (KHTML, like Gecko) Chrome/103.0.0.0 Safari/535.38\"}\n",
    "lines = []\n",
    "for alb in alb_list:\n",
    "    sleep(2)\n",
    "    al = alb\n",
    "    al_rest = al[1:].lower().replace(\"’\",' ').split(' ')\n",
    "    al_fin = al[0] + '-'.join(al_rest)\n",
    "    url = f'https://genius.com/albums/Manowar/{al_fin}'\n",
    "    response = requests.get(url, headers=headers)\n",
    "    soup = BeautifulSoup(response.text, 'lxml')\n",
    "    tbox = soup.find_all('h3',class_=\"chart_row-content-title\") \n",
    "    for i in tbox:\n",
    "        it = i.text.replace('\\n','').replace('Lyrics','').strip().lower().split(' ')\n",
    "        it = '-'.join(it)\n",
    "        it = it.replace(',','').replace('(','').replace(')','').replace(\"'\",'')\n",
    "        songs_list.append(it)\n",
    "print('done')"
   ]
  },
  {
   "cell_type": "code",
   "execution_count": 15,
   "id": "7eeb3e5a",
   "metadata": {},
   "outputs": [
    {
     "data": {
      "text/plain": [
       "101"
      ]
     },
     "execution_count": 15,
     "metadata": {},
     "output_type": "execute_result"
    }
   ],
   "source": [
    "len(songs_list)"
   ]
  },
  {
   "cell_type": "code",
   "execution_count": 16,
   "id": "195dbc24",
   "metadata": {},
   "outputs": [
    {
     "name": "stdout",
     "output_type": "stream",
     "text": [
      "death-tone\n",
      "metal-daze\n",
      "fast-taker\n",
      "shell-shock\n",
      "manowar\n",
      "dark-avenger\n",
      "williams-tale\n",
      "battle-hymn\n",
      "warlord\n",
      "secret-of-steel\n",
      "gloves-of-metal\n",
      "gates-of-valhalla\n",
      "hatred\n",
      "revelation-deaths-angel\n",
      "march-for-revenge-by-the-soldiers-of-death\n",
      "manowar---live\n",
      "blood-of-my-enemies\n",
      "each-dawn-i-die\n",
      "kill-with-power\n",
      "hail-to-england\n",
      "army-of-the-immortals\n",
      "black-arrows\n",
      "bridge-of-death\n",
      "all-men-play-on-10\n",
      "animals\n",
      "thor-the-powerhead\n",
      "mountains\n",
      "sign-of-the-hammer\n",
      "the-oath\n",
      "thunderpick\n",
      "guyana-the-cult-of-the-damned\n",
      "guyana-cult-of-the-damned\n",
      "all-men-play-on-ten\n",
      "fighting-the-world\n",
      "blow-your-speakers\n",
      "carry-on\n",
      "violence-and-bloodshed\n",
      "defender\n",
      "drums-of-doom\n",
      "holy-war\n",
      "master-of-revenge\n",
      "black-wind-fire-and-steel\n",
      "wheels-of-fire\n",
      "kings-of-metal\n",
      "heart-of-steel\n",
      "sting-of-the-bumblebee\n",
      "the-crown-and-the-ring-lament-of-the-kings\n",
      "kingdom-come\n",
      "pleasure-slave\n",
      "hail-and-kill\n",
      "the-warriors-prayer\n",
      "blood-of-the-kings\n",
      "achilles-agony-and-ecstasy-in-eight-parts\n",
      "metal-warriors\n",
      "ride-the-dragon\n",
      "spirit-horse-of-the-cherokee\n",
      "burning\n",
      "the-power-of-thy-sword\n",
      "the-demons-whip\n",
      "master-of-the-wind\n",
      "return-of-the-warlord\n",
      "brothers-of-metal\n",
      "the-gods-made-heavy-metal\n",
      "courage\n",
      "number-1\n",
      "outlaw\n",
      "king\n",
      "today-is-a-good-day-to-die\n",
      "my-spirit-lives-on\n",
      "the-power\n",
      "call-to-arms\n",
      "the-fight-for-freedom\n",
      "nessun-dorma\n",
      "valhalla\n",
      "swords-in-the-wind\n",
      "an-american-trilogy\n",
      "the-march\n",
      "warriors-of-the-world-united\n",
      "hand-of-doom\n",
      "house-of-death\n",
      "fight-until-we-die\n",
      "i-believe\n",
      "the-dawn-of-battle\n",
      "overture-to-the-hymn-of-the-immortal-warriors\n",
      "the-ascension\n",
      "king-of-kings\n",
      "army-of-the-dead-part-i\n",
      "sleipnir\n",
      "loki-god-of-fire\n",
      "blood-brothers\n",
      "overture-to-odin\n",
      "the-blood-of-odin\n",
      "the-sons-of-odin\n",
      "glory-majesty-unity\n",
      "gods-of-war\n",
      "army-of-the-dead-part-ii\n",
      "odin\n",
      "hymn-of-the-immortal-warriors\n",
      "die-for-metal\n",
      "death-tone\n",
      "battle-hymn\n",
      "list done\n",
      "File done\n"
     ]
    }
   ],
   "source": [
    "headers =  {\"User-Agent\": \"Mozilla/5.0 (Windows NT 10.0; Win64; x64) AppleWebKit/789.36 (KHTML, like Gecko) Chrome/101.0.0.0 Safari/532.36\"}\n",
    "lines = []\n",
    "for n in songs_list:\n",
    "    try:\n",
    "        sleep(1)\n",
    "        url = f'https://genius.com/Manowar-{n}-lyrics'\n",
    "        response = requests.get(url, headers=headers)\n",
    "        soup = BeautifulSoup(response.text, 'lxml')\n",
    "        tbox = soup.find_all('div',class_=\"Lyrics__Container-sc-1ynbvzw-6 YYrds\") \n",
    "        for t in tbox:\n",
    "            for i in t.contents:\n",
    "                it = i.text\n",
    "                if it != '' and ('[' not in it or ']' not in it): \n",
    "                    result = it[0]\n",
    "                    for letter in it[1:]:\n",
    "                        if letter.isupper():\n",
    "                             result += f' {letter}'\n",
    "                        else:\n",
    "                            result += letter\n",
    "                    lines.append(result) \n",
    "    except:\n",
    "        pass\n",
    "    print(n)\n",
    "print('list done')\n",
    "with open(r\"manowar_texts.txt\", \"w\",encoding=\"utf-8\") as file:\n",
    "    for  line in lines:\n",
    "        file.write(line + '\\n')  \n",
    "print('File done')"
   ]
  },
  {
   "cell_type": "code",
   "execution_count": null,
   "id": "3e843ec8",
   "metadata": {},
   "outputs": [],
   "source": []
  }
 ],
 "metadata": {
  "kernelspec": {
   "display_name": "Python 3 (ipykernel)",
   "language": "python",
   "name": "python3"
  },
  "language_info": {
   "codemirror_mode": {
    "name": "ipython",
    "version": 3
   },
   "file_extension": ".py",
   "mimetype": "text/x-python",
   "name": "python",
   "nbconvert_exporter": "python",
   "pygments_lexer": "ipython3",
   "version": "3.9.7"
  }
 },
 "nbformat": 4,
 "nbformat_minor": 5
}
