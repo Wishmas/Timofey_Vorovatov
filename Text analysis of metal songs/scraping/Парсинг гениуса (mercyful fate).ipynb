{
 "cells": [
  {
   "cell_type": "code",
   "execution_count": 8,
   "id": "00433c1e",
   "metadata": {},
   "outputs": [],
   "source": [
    "import requests\n",
    "from bs4 import BeautifulSoup\n",
    "import lxml\n",
    "from time import sleep\n",
    "import re"
   ]
  },
  {
   "cell_type": "code",
   "execution_count": 14,
   "id": "ffc9089e",
   "metadata": {},
   "outputs": [],
   "source": [
    "alb_list = ['Don’t Break the Oath','Melissa','In The Shadows','Time','Into The Unknown','Dead Again','9']\n",
    "songs_list = []"
   ]
  },
  {
   "cell_type": "code",
   "execution_count": 15,
   "id": "7fb112fb",
   "metadata": {},
   "outputs": [
    {
     "name": "stdout",
     "output_type": "stream",
     "text": [
      "done\n"
     ]
    }
   ],
   "source": [
    "headers =  {\"User-Agent\": \"Mozilla/4.0 (Windows NT 7.0; Win64; x64) AppleWebKit/987.32 (KHTML, like Gecko) Chrome/103.0.0.0 Safari/535.38\"}\n",
    "lines = []\n",
    "for alb in alb_list:\n",
    "    sleep(2)\n",
    "    al = alb\n",
    "    al_rest = al[1:].lower().replace(\"’\",' ').split(' ')\n",
    "    al_fin = al[0] + '-'.join(al_rest)\n",
    "    url = f'https://genius.com/albums/Mercyful-fate/{al_fin}'\n",
    "    response = requests.get(url, headers=headers)\n",
    "    soup = BeautifulSoup(response.text, 'lxml')\n",
    "    tbox = soup.find_all('h3',class_=\"chart_row-content-title\") \n",
    "    for i in tbox:\n",
    "        it = i.text.replace('\\n','').replace('Lyrics','').strip().lower().split(' ')\n",
    "        it = '-'.join(it)\n",
    "        it = it.replace(',','').replace('(','').replace(')','').replace('’','')\n",
    "        songs_list.append(it)\n",
    "print('done')\n",
    "\n"
   ]
  },
  {
   "cell_type": "code",
   "execution_count": 18,
   "id": "339d5d40",
   "metadata": {},
   "outputs": [
    {
     "data": {
      "text/plain": [
       "69"
      ]
     },
     "execution_count": 18,
     "metadata": {},
     "output_type": "execute_result"
    }
   ],
   "source": [
    "len(songs_list)"
   ]
  },
  {
   "cell_type": "code",
   "execution_count": 17,
   "id": "195dbc24",
   "metadata": {},
   "outputs": [
    {
     "name": "stdout",
     "output_type": "stream",
     "text": [
      "a-dangerous-meeting\n",
      "nightmare\n",
      "desecration-of-souls\n",
      "night-of-the-unborn\n",
      "the-oath\n",
      "gypsy\n",
      "welcome-princess-of-hell\n",
      "to-one-far-away\n",
      "come-to-the-sabbath\n",
      "evil\n",
      "curse-of-the-pharaohs\n",
      "into-the-coven\n",
      "at-the-sound-of-the-demon-bell\n",
      "black-funeral\n",
      "satan's-fall\n",
      "melissa\n",
      "black-masses\n",
      "egypt\n",
      "the-bell-witch\n",
      "the-old-oak\n",
      "shadows\n",
      "a-gruesome-time\n",
      "thirteen-invitations\n",
      "room-of-golden-air\n",
      "legend-of-the-headless-rider\n",
      "is-that-you-melissa?\n",
      "return-of-the-vampire-1993\n",
      "nightmare-be-thy-name\n",
      "angel-of-light\n",
      "witches'-dance\n",
      "the-mad-arab\n",
      "my-demon\n",
      "time\n",
      "the-preacher\n",
      "lady-in-black\n",
      "mirror\n",
      "the-afterlife\n",
      "castillo-del-mortes\n",
      "lucifer\n",
      "the-uninvited-guest\n",
      "the-ghost-of-change\n",
      "listen-to-the-bell\n",
      "fifteen-men-and-a-bottle-of-rum\n",
      "into-the-unknown\n",
      "under-the-spell\n",
      "deadtime\n",
      "holy-water\n",
      "kutulu-the-mad-arab-part-2\n",
      "the-ripper\n",
      "torture-1629\n",
      "the-night\n",
      "since-forever\n",
      "the-lady-who-cries\n",
      "banshee\n",
      "mandrake\n",
      "sucking-your-blood\n",
      "dead-again\n",
      "fear\n",
      "crossroads\n",
      "last-rites\n",
      "church-of-saint-anne\n",
      "sold-my-soul\n",
      "house-on-the-hill\n",
      "burn-in-hell\n",
      "the-grave\n",
      "insane\n",
      "kiss-the-demon\n",
      "buried-alive\n",
      "9\n",
      "list done\n",
      "File done\n"
     ]
    }
   ],
   "source": [
    "headers =  {\"User-Agent\": \"Mozilla/5.0 (Windows NT 10.0; Win64; x64) AppleWebKit/789.36 (KHTML, like Gecko) Chrome/101.0.0.0 Safari/532.36\"}\n",
    "lines = []\n",
    "for n in songs_list:\n",
    "    try:\n",
    "        sleep(1)\n",
    "        url = f'https://genius.com/Mercyful-fate-{n}-lyrics'\n",
    "        response = requests.get(url, headers=headers)\n",
    "        soup = BeautifulSoup(response.text, 'lxml')\n",
    "        tbox = soup.find_all('div',class_=\"Lyrics__Container-sc-1ynbvzw-6 YYrds\") \n",
    "        for t in tbox:\n",
    "            for i in t.contents:\n",
    "                it = i.text\n",
    "                if it != '' and ('[' not in it or ']' not in it): \n",
    "                    result = it[0]\n",
    "                    for letter in it[1:]:\n",
    "                        if letter.isupper():\n",
    "                             result += f' {letter}'\n",
    "                        else:\n",
    "                            result += letter\n",
    "                    lines.append(result) \n",
    "    except:\n",
    "        pass\n",
    "    print(n)\n",
    "print('list done')\n",
    "with open(r\"mercyful_fate_texts.txt\", \"w\",encoding=\"utf-8\") as file:\n",
    "    for  line in lines:\n",
    "        file.write(line + '\\n')  \n",
    "print('File done')"
   ]
  },
  {
   "cell_type": "code",
   "execution_count": null,
   "id": "3e843ec8",
   "metadata": {},
   "outputs": [],
   "source": []
  }
 ],
 "metadata": {
  "kernelspec": {
   "display_name": "Python 3 (ipykernel)",
   "language": "python",
   "name": "python3"
  },
  "language_info": {
   "codemirror_mode": {
    "name": "ipython",
    "version": 3
   },
   "file_extension": ".py",
   "mimetype": "text/x-python",
   "name": "python",
   "nbconvert_exporter": "python",
   "pygments_lexer": "ipython3",
   "version": "3.9.7"
  }
 },
 "nbformat": 4,
 "nbformat_minor": 5
}
