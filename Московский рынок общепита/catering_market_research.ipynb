{
 "cells": [
  {
   "cell_type": "markdown",
   "metadata": {},
   "source": [
    "# Исследование московской системы общепита для оптимизации запуска стартапа в этой области и определения его перспектив"
   ]
  },
  {
   "cell_type": "markdown",
   "metadata": {},
   "source": [
    "Создание бизнеса с нуля - крайне ответственное и рискованное решение. Принимать его можно только в том случае, если имеешь серьезные основания считать, что задумка увенчается успехом. Лучшим подтверждением подобного предположения могут стать данные о текущем состоянии рынка и его тенденциях, а также построенный на их основании анализ. Именно этому анализу и будет посвящен данный проект."
   ]
  },
  {
   "cell_type": "markdown",
   "metadata": {},
   "source": [
    "**Задача:** провести исследование рынка Москвы, обнаружить его интересные особенности и подготовить почву для открытия нового заведения общественного питания в столице."
   ]
  },
  {
   "cell_type": "markdown",
   "metadata": {},
   "source": [
    "**Этапы работы:** [предобработка](#prep), [исследование](#resch), [принятие решений и выводы](#sol), [презентация результатов](#pres)."
   ]
  },
  {
   "cell_type": "markdown",
   "metadata": {},
   "source": [
    "## Материалы"
   ]
  },
  {
   "cell_type": "markdown",
   "metadata": {},
   "source": [
    "https://drive.google.com/file/d/15QI8bugZoAOpJuWr7O8UveZgHbh5rihh/view?usp=sharing"
   ]
  },
  {
   "cell_type": "markdown",
   "metadata": {},
   "source": [
    "## Получение данных и предобработка \n",
    "<a id=\"prep\"></a> "
   ]
  },
  {
   "cell_type": "code",
   "execution_count": 1,
   "metadata": {},
   "outputs": [],
   "source": [
    "import pandas as pd \n",
    "import numpy as np\n",
    "import matplotlib.pyplot as plt\n",
    "import seaborn as sns\n",
    "import plotly.express as px\n",
    "from plotly import graph_objects as go\n",
    "plt.style.use('dark_background')"
   ]
  },
  {
   "cell_type": "markdown",
   "metadata": {},
   "source": [
    "Начнем с получения и обработки данных:"
   ]
  },
  {
   "cell_type": "code",
   "execution_count": 2,
   "metadata": {
    "scrolled": false
   },
   "outputs": [
    {
     "data": {
      "text/html": [
       "<div>\n",
       "<style scoped>\n",
       "    .dataframe tbody tr th:only-of-type {\n",
       "        vertical-align: middle;\n",
       "    }\n",
       "\n",
       "    .dataframe tbody tr th {\n",
       "        vertical-align: top;\n",
       "    }\n",
       "\n",
       "    .dataframe thead th {\n",
       "        text-align: right;\n",
       "    }\n",
       "</style>\n",
       "<table border=\"1\" class=\"dataframe\">\n",
       "  <thead>\n",
       "    <tr style=\"text-align: right;\">\n",
       "      <th></th>\n",
       "      <th>name</th>\n",
       "      <th>category</th>\n",
       "      <th>address</th>\n",
       "      <th>district</th>\n",
       "      <th>hours</th>\n",
       "      <th>lat</th>\n",
       "      <th>lng</th>\n",
       "      <th>rating</th>\n",
       "      <th>price</th>\n",
       "      <th>avg_bill</th>\n",
       "      <th>middle_avg_bill</th>\n",
       "      <th>middle_coffee_cup</th>\n",
       "      <th>chain</th>\n",
       "      <th>seats</th>\n",
       "    </tr>\n",
       "  </thead>\n",
       "  <tbody>\n",
       "    <tr>\n",
       "      <th>0</th>\n",
       "      <td>WoWфли</td>\n",
       "      <td>кафе</td>\n",
       "      <td>Москва, улица Дыбенко, 7/1</td>\n",
       "      <td>Северный административный округ</td>\n",
       "      <td>ежедневно, 10:00–22:00</td>\n",
       "      <td>55.878494</td>\n",
       "      <td>37.478860</td>\n",
       "      <td>5.0</td>\n",
       "      <td>NaN</td>\n",
       "      <td>NaN</td>\n",
       "      <td>NaN</td>\n",
       "      <td>NaN</td>\n",
       "      <td>0</td>\n",
       "      <td>NaN</td>\n",
       "    </tr>\n",
       "    <tr>\n",
       "      <th>1</th>\n",
       "      <td>Четыре комнаты</td>\n",
       "      <td>ресторан</td>\n",
       "      <td>Москва, улица Дыбенко, 36, корп. 1</td>\n",
       "      <td>Северный административный округ</td>\n",
       "      <td>ежедневно, 10:00–22:00</td>\n",
       "      <td>55.875801</td>\n",
       "      <td>37.484479</td>\n",
       "      <td>4.5</td>\n",
       "      <td>выше среднего</td>\n",
       "      <td>Средний счёт:1500–1600 ₽</td>\n",
       "      <td>1550.0</td>\n",
       "      <td>NaN</td>\n",
       "      <td>0</td>\n",
       "      <td>4.0</td>\n",
       "    </tr>\n",
       "    <tr>\n",
       "      <th>2</th>\n",
       "      <td>Хазри</td>\n",
       "      <td>кафе</td>\n",
       "      <td>Москва, Клязьминская улица, 15</td>\n",
       "      <td>Северный административный округ</td>\n",
       "      <td>пн-чт 11:00–02:00; пт,сб 11:00–05:00; вс 11:00...</td>\n",
       "      <td>55.889146</td>\n",
       "      <td>37.525901</td>\n",
       "      <td>4.6</td>\n",
       "      <td>средние</td>\n",
       "      <td>Средний счёт:от 1000 ₽</td>\n",
       "      <td>1000.0</td>\n",
       "      <td>NaN</td>\n",
       "      <td>0</td>\n",
       "      <td>45.0</td>\n",
       "    </tr>\n",
       "    <tr>\n",
       "      <th>3</th>\n",
       "      <td>Dormouse Coffee Shop</td>\n",
       "      <td>кофейня</td>\n",
       "      <td>Москва, улица Маршала Федоренко, 12</td>\n",
       "      <td>Северный административный округ</td>\n",
       "      <td>ежедневно, 09:00–22:00</td>\n",
       "      <td>55.881608</td>\n",
       "      <td>37.488860</td>\n",
       "      <td>5.0</td>\n",
       "      <td>NaN</td>\n",
       "      <td>Цена чашки капучино:155–185 ₽</td>\n",
       "      <td>NaN</td>\n",
       "      <td>170.0</td>\n",
       "      <td>0</td>\n",
       "      <td>NaN</td>\n",
       "    </tr>\n",
       "    <tr>\n",
       "      <th>4</th>\n",
       "      <td>Иль Марко</td>\n",
       "      <td>пиццерия</td>\n",
       "      <td>Москва, Правобережная улица, 1Б</td>\n",
       "      <td>Северный административный округ</td>\n",
       "      <td>ежедневно, 10:00–22:00</td>\n",
       "      <td>55.881166</td>\n",
       "      <td>37.449357</td>\n",
       "      <td>5.0</td>\n",
       "      <td>средние</td>\n",
       "      <td>Средний счёт:400–600 ₽</td>\n",
       "      <td>500.0</td>\n",
       "      <td>NaN</td>\n",
       "      <td>1</td>\n",
       "      <td>148.0</td>\n",
       "    </tr>\n",
       "  </tbody>\n",
       "</table>\n",
       "</div>"
      ],
      "text/plain": [
       "                   name  category                              address  \\\n",
       "0                WoWфли      кафе           Москва, улица Дыбенко, 7/1   \n",
       "1        Четыре комнаты  ресторан   Москва, улица Дыбенко, 36, корп. 1   \n",
       "2                 Хазри      кафе       Москва, Клязьминская улица, 15   \n",
       "3  Dormouse Coffee Shop   кофейня  Москва, улица Маршала Федоренко, 12   \n",
       "4             Иль Марко  пиццерия      Москва, Правобережная улица, 1Б   \n",
       "\n",
       "                          district  \\\n",
       "0  Северный административный округ   \n",
       "1  Северный административный округ   \n",
       "2  Северный административный округ   \n",
       "3  Северный административный округ   \n",
       "4  Северный административный округ   \n",
       "\n",
       "                                               hours        lat        lng  \\\n",
       "0                             ежедневно, 10:00–22:00  55.878494  37.478860   \n",
       "1                             ежедневно, 10:00–22:00  55.875801  37.484479   \n",
       "2  пн-чт 11:00–02:00; пт,сб 11:00–05:00; вс 11:00...  55.889146  37.525901   \n",
       "3                             ежедневно, 09:00–22:00  55.881608  37.488860   \n",
       "4                             ежедневно, 10:00–22:00  55.881166  37.449357   \n",
       "\n",
       "   rating          price                       avg_bill  middle_avg_bill  \\\n",
       "0     5.0            NaN                            NaN              NaN   \n",
       "1     4.5  выше среднего       Средний счёт:1500–1600 ₽           1550.0   \n",
       "2     4.6        средние         Средний счёт:от 1000 ₽           1000.0   \n",
       "3     5.0            NaN  Цена чашки капучино:155–185 ₽              NaN   \n",
       "4     5.0        средние         Средний счёт:400–600 ₽            500.0   \n",
       "\n",
       "   middle_coffee_cup  chain  seats  \n",
       "0                NaN      0    NaN  \n",
       "1                NaN      0    4.0  \n",
       "2                NaN      0   45.0  \n",
       "3              170.0      0    NaN  \n",
       "4                NaN      1  148.0  "
      ]
     },
     "execution_count": 2,
     "metadata": {},
     "output_type": "execute_result"
    }
   ],
   "source": [
    "df = pd.read_csv('moscow_places.csv')\n",
    "df.head(5)"
   ]
  },
  {
   "cell_type": "markdown",
   "metadata": {},
   "source": [
    "Изучим структуру таблицы:"
   ]
  },
  {
   "cell_type": "code",
   "execution_count": 3,
   "metadata": {},
   "outputs": [
    {
     "name": "stdout",
     "output_type": "stream",
     "text": [
      "<class 'pandas.core.frame.DataFrame'>\n",
      "RangeIndex: 8406 entries, 0 to 8405\n",
      "Data columns (total 14 columns):\n",
      " #   Column             Non-Null Count  Dtype  \n",
      "---  ------             --------------  -----  \n",
      " 0   name               8406 non-null   object \n",
      " 1   category           8406 non-null   object \n",
      " 2   address            8406 non-null   object \n",
      " 3   district           8406 non-null   object \n",
      " 4   hours              7870 non-null   object \n",
      " 5   lat                8406 non-null   float64\n",
      " 6   lng                8406 non-null   float64\n",
      " 7   rating             8406 non-null   float64\n",
      " 8   price              3315 non-null   object \n",
      " 9   avg_bill           3816 non-null   object \n",
      " 10  middle_avg_bill    3149 non-null   float64\n",
      " 11  middle_coffee_cup  535 non-null    float64\n",
      " 12  chain              8406 non-null   int64  \n",
      " 13  seats              4795 non-null   float64\n",
      "dtypes: float64(6), int64(1), object(7)\n",
      "memory usage: 919.5+ KB\n"
     ]
    }
   ],
   "source": [
    "df.info()"
   ]
  },
  {
   "cell_type": "markdown",
   "metadata": {},
   "source": [
    "Сразу проверим данные на пропуски и дубликаты:"
   ]
  },
  {
   "cell_type": "code",
   "execution_count": 4,
   "metadata": {},
   "outputs": [
    {
     "data": {
      "text/plain": [
       "0"
      ]
     },
     "execution_count": 4,
     "metadata": {},
     "output_type": "execute_result"
    }
   ],
   "source": [
    "df.duplicated().sum()"
   ]
  },
  {
   "cell_type": "code",
   "execution_count": 5,
   "metadata": {},
   "outputs": [
    {
     "data": {
      "text/plain": [
       "2792"
      ]
     },
     "execution_count": 5,
     "metadata": {},
     "output_type": "execute_result"
    }
   ],
   "source": [
    "df['name'].duplicated().sum()"
   ]
  },
  {
   "cell_type": "code",
   "execution_count": 6,
   "metadata": {},
   "outputs": [
    {
     "data": {
      "text/plain": [
       "name                    0\n",
       "category                0\n",
       "address                 0\n",
       "district                0\n",
       "hours                 536\n",
       "lat                     0\n",
       "lng                     0\n",
       "rating                  0\n",
       "price                5091\n",
       "avg_bill             4590\n",
       "middle_avg_bill      5257\n",
       "middle_coffee_cup    7871\n",
       "chain                   0\n",
       "seats                3611\n",
       "dtype: int64"
      ]
     },
     "execution_count": 6,
     "metadata": {},
     "output_type": "execute_result"
    }
   ],
   "source": [
    "df.isnull().sum()"
   ]
  },
  {
   "cell_type": "markdown",
   "metadata": {},
   "source": [
    "**Вывод:** полных дубликатов обнаружено не было, а дубликаты по столбцу name - это, вероятно, сетевые заведения. Трогать их не стоит. Критических пропусков по названиям или адресам в таблице нет. Много пропусков сконцентрировано в столбцах, связанных с со стоимостью. Заполнять их медианным значением нецелесообразно, поскольку их слишком много, а значит, подобное действие может чересчур исказить результаты исследования. По той же причине, удалять их тоже неправильно. Поэтому пока оставим эти значения в том виде, в котором они есть."
   ]
  },
  {
   "cell_type": "markdown",
   "metadata": {},
   "source": [
    "Бегло изучим возможные категориальные значения и диапазоны количественных значений из основных столбцов:"
   ]
  },
  {
   "cell_type": "code",
   "execution_count": 7,
   "metadata": {},
   "outputs": [
    {
     "data": {
      "text/plain": [
       "array(['кафе', 'ресторан', 'кофейня', 'пиццерия', 'бар,паб',\n",
       "       'быстрое питание', 'булочная', 'столовая'], dtype=object)"
      ]
     },
     "execution_count": 7,
     "metadata": {},
     "output_type": "execute_result"
    }
   ],
   "source": [
    "df['category'].unique()"
   ]
  },
  {
   "cell_type": "code",
   "execution_count": 8,
   "metadata": {},
   "outputs": [
    {
     "data": {
      "text/plain": [
       "array(['Северный административный округ',\n",
       "       'Северо-Восточный административный округ',\n",
       "       'Северо-Западный административный округ',\n",
       "       'Западный административный округ',\n",
       "       'Центральный административный округ',\n",
       "       'Восточный административный округ',\n",
       "       'Юго-Восточный административный округ',\n",
       "       'Южный административный округ',\n",
       "       'Юго-Западный административный округ'], dtype=object)"
      ]
     },
     "execution_count": 8,
     "metadata": {},
     "output_type": "execute_result"
    }
   ],
   "source": [
    "df['district'].unique()"
   ]
  },
  {
   "cell_type": "code",
   "execution_count": 9,
   "metadata": {},
   "outputs": [
    {
     "data": {
      "text/plain": [
       "array([nan, 'выше среднего', 'средние', 'высокие', 'низкие'], dtype=object)"
      ]
     },
     "execution_count": 9,
     "metadata": {},
     "output_type": "execute_result"
    }
   ],
   "source": [
    "df['price'].unique()"
   ]
  },
  {
   "cell_type": "code",
   "execution_count": 10,
   "metadata": {},
   "outputs": [
    {
     "data": {
      "text/plain": [
       "array([0, 1], dtype=int64)"
      ]
     },
     "execution_count": 10,
     "metadata": {},
     "output_type": "execute_result"
    }
   ],
   "source": [
    "df['chain'].unique()"
   ]
  },
  {
   "cell_type": "code",
   "execution_count": 11,
   "metadata": {},
   "outputs": [
    {
     "name": "stdout",
     "output_type": "stream",
     "text": [
      "Самый низкий рейтинг: 1.0 | самый высокий рейтинг: 5.0\n"
     ]
    }
   ],
   "source": [
    "print(f\"Самый низкий рейтинг: {df['rating'].min()} | самый высокий рейтинг: {df['rating'].max()}\")"
   ]
  },
  {
   "cell_type": "code",
   "execution_count": 12,
   "metadata": {},
   "outputs": [
    {
     "name": "stdout",
     "output_type": "stream",
     "text": [
      "Самый средний чек: 0.0 | самый крупный чек: 35000.0\n"
     ]
    }
   ],
   "source": [
    "print(f\"Самый средний чек: {df['middle_avg_bill'].min()} | самый крупный чек: {df['middle_avg_bill'].max()}\")"
   ]
  },
  {
   "cell_type": "code",
   "execution_count": 13,
   "metadata": {},
   "outputs": [
    {
     "name": "stdout",
     "output_type": "stream",
     "text": [
      "Минимальное количество мест: 0.0 | максимальное количество мест: 1288.0\n"
     ]
    }
   ],
   "source": [
    "print(f\"Минимальное количество мест: {df['seats'].min()} | максимальное количество мест: {df['seats'].max()}\")"
   ]
  },
  {
   "cell_type": "markdown",
   "metadata": {},
   "source": [
    "Добавим в таблицу несколько новых столбцов:"
   ]
  },
  {
   "cell_type": "code",
   "execution_count": 14,
   "metadata": {},
   "outputs": [],
   "source": [
    "def extract_street(x):\n",
    "    box = x.split(', ')\n",
    "    return box[1]"
   ]
  },
  {
   "cell_type": "code",
   "execution_count": 15,
   "metadata": {},
   "outputs": [],
   "source": [
    "df['street'] = df['address'].apply(extract_street)"
   ]
  },
  {
   "cell_type": "code",
   "execution_count": 16,
   "metadata": {},
   "outputs": [
    {
     "data": {
      "text/plain": [
       "0                 улица Дыбенко\n",
       "1                 улица Дыбенко\n",
       "2            Клязьминская улица\n",
       "3       улица Маршала Федоренко\n",
       "4           Правобережная улица\n",
       "                 ...           \n",
       "8401          Профсоюзная улица\n",
       "8402      Пролетарский проспект\n",
       "8403           Люблинская улица\n",
       "8404           Люблинская улица\n",
       "8405        Россошанский проезд\n",
       "Name: address, Length: 8406, dtype: object"
      ]
     },
     "execution_count": 16,
     "metadata": {},
     "output_type": "execute_result"
    }
   ],
   "source": [
    "df['address'].str.split(', ').str[1]"
   ]
  },
  {
   "cell_type": "code",
   "execution_count": 17,
   "metadata": {},
   "outputs": [
    {
     "data": {
      "text/html": [
       "<div>\n",
       "<style scoped>\n",
       "    .dataframe tbody tr th:only-of-type {\n",
       "        vertical-align: middle;\n",
       "    }\n",
       "\n",
       "    .dataframe tbody tr th {\n",
       "        vertical-align: top;\n",
       "    }\n",
       "\n",
       "    .dataframe thead th {\n",
       "        text-align: right;\n",
       "    }\n",
       "</style>\n",
       "<table border=\"1\" class=\"dataframe\">\n",
       "  <thead>\n",
       "    <tr style=\"text-align: right;\">\n",
       "      <th></th>\n",
       "      <th>name</th>\n",
       "      <th>category</th>\n",
       "      <th>address</th>\n",
       "      <th>district</th>\n",
       "      <th>hours</th>\n",
       "      <th>lat</th>\n",
       "      <th>lng</th>\n",
       "      <th>rating</th>\n",
       "      <th>price</th>\n",
       "      <th>avg_bill</th>\n",
       "      <th>middle_avg_bill</th>\n",
       "      <th>middle_coffee_cup</th>\n",
       "      <th>chain</th>\n",
       "      <th>seats</th>\n",
       "      <th>street</th>\n",
       "    </tr>\n",
       "  </thead>\n",
       "  <tbody>\n",
       "    <tr>\n",
       "      <th>0</th>\n",
       "      <td>WoWфли</td>\n",
       "      <td>кафе</td>\n",
       "      <td>Москва, улица Дыбенко, 7/1</td>\n",
       "      <td>Северный административный округ</td>\n",
       "      <td>ежедневно, 10:00–22:00</td>\n",
       "      <td>55.878494</td>\n",
       "      <td>37.478860</td>\n",
       "      <td>5.0</td>\n",
       "      <td>NaN</td>\n",
       "      <td>NaN</td>\n",
       "      <td>NaN</td>\n",
       "      <td>NaN</td>\n",
       "      <td>0</td>\n",
       "      <td>NaN</td>\n",
       "      <td>улица Дыбенко</td>\n",
       "    </tr>\n",
       "    <tr>\n",
       "      <th>1</th>\n",
       "      <td>Четыре комнаты</td>\n",
       "      <td>ресторан</td>\n",
       "      <td>Москва, улица Дыбенко, 36, корп. 1</td>\n",
       "      <td>Северный административный округ</td>\n",
       "      <td>ежедневно, 10:00–22:00</td>\n",
       "      <td>55.875801</td>\n",
       "      <td>37.484479</td>\n",
       "      <td>4.5</td>\n",
       "      <td>выше среднего</td>\n",
       "      <td>Средний счёт:1500–1600 ₽</td>\n",
       "      <td>1550.0</td>\n",
       "      <td>NaN</td>\n",
       "      <td>0</td>\n",
       "      <td>4.0</td>\n",
       "      <td>улица Дыбенко</td>\n",
       "    </tr>\n",
       "    <tr>\n",
       "      <th>2</th>\n",
       "      <td>Хазри</td>\n",
       "      <td>кафе</td>\n",
       "      <td>Москва, Клязьминская улица, 15</td>\n",
       "      <td>Северный административный округ</td>\n",
       "      <td>пн-чт 11:00–02:00; пт,сб 11:00–05:00; вс 11:00...</td>\n",
       "      <td>55.889146</td>\n",
       "      <td>37.525901</td>\n",
       "      <td>4.6</td>\n",
       "      <td>средние</td>\n",
       "      <td>Средний счёт:от 1000 ₽</td>\n",
       "      <td>1000.0</td>\n",
       "      <td>NaN</td>\n",
       "      <td>0</td>\n",
       "      <td>45.0</td>\n",
       "      <td>Клязьминская улица</td>\n",
       "    </tr>\n",
       "  </tbody>\n",
       "</table>\n",
       "</div>"
      ],
      "text/plain": [
       "             name  category                             address  \\\n",
       "0          WoWфли      кафе          Москва, улица Дыбенко, 7/1   \n",
       "1  Четыре комнаты  ресторан  Москва, улица Дыбенко, 36, корп. 1   \n",
       "2           Хазри      кафе      Москва, Клязьминская улица, 15   \n",
       "\n",
       "                          district  \\\n",
       "0  Северный административный округ   \n",
       "1  Северный административный округ   \n",
       "2  Северный административный округ   \n",
       "\n",
       "                                               hours        lat        lng  \\\n",
       "0                             ежедневно, 10:00–22:00  55.878494  37.478860   \n",
       "1                             ежедневно, 10:00–22:00  55.875801  37.484479   \n",
       "2  пн-чт 11:00–02:00; пт,сб 11:00–05:00; вс 11:00...  55.889146  37.525901   \n",
       "\n",
       "   rating          price                  avg_bill  middle_avg_bill  \\\n",
       "0     5.0            NaN                       NaN              NaN   \n",
       "1     4.5  выше среднего  Средний счёт:1500–1600 ₽           1550.0   \n",
       "2     4.6        средние    Средний счёт:от 1000 ₽           1000.0   \n",
       "\n",
       "   middle_coffee_cup  chain  seats              street  \n",
       "0                NaN      0    NaN       улица Дыбенко  \n",
       "1                NaN      0    4.0       улица Дыбенко  \n",
       "2                NaN      0   45.0  Клязьминская улица  "
      ]
     },
     "execution_count": 17,
     "metadata": {},
     "output_type": "execute_result"
    }
   ],
   "source": [
    "df[df['street'].notna()].head(3)"
   ]
  },
  {
   "cell_type": "markdown",
   "metadata": {},
   "source": [
    "В отдельный столбец выделим из адреса название улицы."
   ]
  },
  {
   "cell_type": "code",
   "execution_count": 18,
   "metadata": {},
   "outputs": [],
   "source": [
    "def is_daily(x):\n",
    "    return 'ежедневно, круглосуточно' in str(x)"
   ]
  },
  {
   "cell_type": "code",
   "execution_count": 19,
   "metadata": {},
   "outputs": [],
   "source": [
    "df['is_24/7'] = df['hours'].apply(is_daily)"
   ]
  },
  {
   "cell_type": "code",
   "execution_count": 20,
   "metadata": {},
   "outputs": [
    {
     "data": {
      "text/html": [
       "<div>\n",
       "<style scoped>\n",
       "    .dataframe tbody tr th:only-of-type {\n",
       "        vertical-align: middle;\n",
       "    }\n",
       "\n",
       "    .dataframe tbody tr th {\n",
       "        vertical-align: top;\n",
       "    }\n",
       "\n",
       "    .dataframe thead th {\n",
       "        text-align: right;\n",
       "    }\n",
       "</style>\n",
       "<table border=\"1\" class=\"dataframe\">\n",
       "  <thead>\n",
       "    <tr style=\"text-align: right;\">\n",
       "      <th></th>\n",
       "      <th>name</th>\n",
       "      <th>category</th>\n",
       "      <th>address</th>\n",
       "      <th>district</th>\n",
       "      <th>hours</th>\n",
       "      <th>lat</th>\n",
       "      <th>lng</th>\n",
       "      <th>rating</th>\n",
       "      <th>price</th>\n",
       "      <th>avg_bill</th>\n",
       "      <th>middle_avg_bill</th>\n",
       "      <th>middle_coffee_cup</th>\n",
       "      <th>chain</th>\n",
       "      <th>seats</th>\n",
       "      <th>street</th>\n",
       "      <th>is_24/7</th>\n",
       "    </tr>\n",
       "  </thead>\n",
       "  <tbody>\n",
       "    <tr>\n",
       "      <th>10</th>\n",
       "      <td>Great Room Bar</td>\n",
       "      <td>бар,паб</td>\n",
       "      <td>Москва, Левобережная улица, 12</td>\n",
       "      <td>Северный административный округ</td>\n",
       "      <td>ежедневно, круглосуточно</td>\n",
       "      <td>55.877832</td>\n",
       "      <td>37.469171</td>\n",
       "      <td>4.5</td>\n",
       "      <td>средние</td>\n",
       "      <td>Цена бокала пива:250–350 ₽</td>\n",
       "      <td>NaN</td>\n",
       "      <td>NaN</td>\n",
       "      <td>0</td>\n",
       "      <td>102.0</td>\n",
       "      <td>Левобережная улица</td>\n",
       "      <td>True</td>\n",
       "    </tr>\n",
       "    <tr>\n",
       "      <th>17</th>\n",
       "      <td>Чайхана Беш-Бармак</td>\n",
       "      <td>ресторан</td>\n",
       "      <td>Москва, Ленинградское шоссе, 71Б, стр. 2</td>\n",
       "      <td>Северный административный округ</td>\n",
       "      <td>ежедневно, круглосуточно</td>\n",
       "      <td>55.876908</td>\n",
       "      <td>37.449876</td>\n",
       "      <td>4.4</td>\n",
       "      <td>средние</td>\n",
       "      <td>Средний счёт:350–500 ₽</td>\n",
       "      <td>425.0</td>\n",
       "      <td>NaN</td>\n",
       "      <td>0</td>\n",
       "      <td>96.0</td>\n",
       "      <td>Ленинградское шоссе</td>\n",
       "      <td>True</td>\n",
       "    </tr>\n",
       "  </tbody>\n",
       "</table>\n",
       "</div>"
      ],
      "text/plain": [
       "                  name  category                                   address  \\\n",
       "10      Great Room Bar   бар,паб            Москва, Левобережная улица, 12   \n",
       "17  Чайхана Беш-Бармак  ресторан  Москва, Ленинградское шоссе, 71Б, стр. 2   \n",
       "\n",
       "                           district                     hours        lat  \\\n",
       "10  Северный административный округ  ежедневно, круглосуточно  55.877832   \n",
       "17  Северный административный округ  ежедневно, круглосуточно  55.876908   \n",
       "\n",
       "          lng  rating    price                    avg_bill  middle_avg_bill  \\\n",
       "10  37.469171     4.5  средние  Цена бокала пива:250–350 ₽              NaN   \n",
       "17  37.449876     4.4  средние      Средний счёт:350–500 ₽            425.0   \n",
       "\n",
       "    middle_coffee_cup  chain  seats               street  is_24/7  \n",
       "10                NaN      0  102.0   Левобережная улица     True  \n",
       "17                NaN      0   96.0  Ленинградское шоссе     True  "
      ]
     },
     "execution_count": 20,
     "metadata": {},
     "output_type": "execute_result"
    }
   ],
   "source": [
    "df[df['is_24/7']].head(2)"
   ]
  },
  {
   "cell_type": "markdown",
   "metadata": {},
   "source": [
    "В другой столбец вынесли маркер, показывающий, что заведение работает круглосуточно."
   ]
  },
  {
   "cell_type": "markdown",
   "metadata": {},
   "source": [
    "**Вывод:** мы разобрались в данных, убедились, что они принадлежат к верным типам, предупредили возможные ошибки и немного дополнили таблицу. Теперь самое время перейти к анализу."
   ]
  },
  {
   "cell_type": "markdown",
   "metadata": {},
   "source": [
    "## Исследование и анализ\n",
    "<a id=\"resch\"></a> "
   ]
  },
  {
   "cell_type": "markdown",
   "metadata": {},
   "source": [
    "Изучим более тщательно распределение заведений города по категориям:"
   ]
  },
  {
   "cell_type": "code",
   "execution_count": 21,
   "metadata": {},
   "outputs": [
    {
     "data": {
      "text/html": [
       "<div>\n",
       "<style scoped>\n",
       "    .dataframe tbody tr th:only-of-type {\n",
       "        vertical-align: middle;\n",
       "    }\n",
       "\n",
       "    .dataframe tbody tr th {\n",
       "        vertical-align: top;\n",
       "    }\n",
       "\n",
       "    .dataframe thead th {\n",
       "        text-align: right;\n",
       "    }\n",
       "</style>\n",
       "<table border=\"1\" class=\"dataframe\">\n",
       "  <thead>\n",
       "    <tr style=\"text-align: right;\">\n",
       "      <th></th>\n",
       "      <th>count</th>\n",
       "      <th>category</th>\n",
       "    </tr>\n",
       "  </thead>\n",
       "  <tbody>\n",
       "    <tr>\n",
       "      <th>0</th>\n",
       "      <td>2378</td>\n",
       "      <td>кафе</td>\n",
       "    </tr>\n",
       "    <tr>\n",
       "      <th>1</th>\n",
       "      <td>2043</td>\n",
       "      <td>ресторан</td>\n",
       "    </tr>\n",
       "    <tr>\n",
       "      <th>2</th>\n",
       "      <td>1413</td>\n",
       "      <td>кофейня</td>\n",
       "    </tr>\n",
       "    <tr>\n",
       "      <th>3</th>\n",
       "      <td>765</td>\n",
       "      <td>бар,паб</td>\n",
       "    </tr>\n",
       "    <tr>\n",
       "      <th>4</th>\n",
       "      <td>633</td>\n",
       "      <td>пиццерия</td>\n",
       "    </tr>\n",
       "    <tr>\n",
       "      <th>5</th>\n",
       "      <td>603</td>\n",
       "      <td>быстрое питание</td>\n",
       "    </tr>\n",
       "    <tr>\n",
       "      <th>6</th>\n",
       "      <td>315</td>\n",
       "      <td>столовая</td>\n",
       "    </tr>\n",
       "    <tr>\n",
       "      <th>7</th>\n",
       "      <td>256</td>\n",
       "      <td>булочная</td>\n",
       "    </tr>\n",
       "  </tbody>\n",
       "</table>\n",
       "</div>"
      ],
      "text/plain": [
       "   count         category\n",
       "0   2378             кафе\n",
       "1   2043         ресторан\n",
       "2   1413          кофейня\n",
       "3    765          бар,паб\n",
       "4    633         пиццерия\n",
       "5    603  быстрое питание\n",
       "6    315         столовая\n",
       "7    256         булочная"
      ]
     },
     "execution_count": 21,
     "metadata": {},
     "output_type": "execute_result"
    }
   ],
   "source": [
    "cats_gr = df.groupby('category').agg({'address' : 'count'}).sort_values(by='address',ascending=False)\n",
    "cats_gr.columns = ['count']\n",
    "cats_gr['category'] = cats_gr.index\n",
    "cats_gr = cats_gr.reset_index(drop=True)\n",
    "cats_gr"
   ]
  },
  {
   "cell_type": "code",
   "execution_count": 22,
   "metadata": {},
   "outputs": [],
   "source": [
    "def create_bar(x,y,color,title,xlabel,ylabel,rotation):\n",
    "    fig, ax = plt.subplots(figsize=(9,6),dpi=100)\n",
    "    ax.bar(x=x,height=y,color=color)\n",
    "    ax.set_title(title,fontsize=16)\n",
    "    ax.set_xlabel(xlabel,fontsize=14)\n",
    "    ax.set_ylabel(ylabel,fontsize=14)\n",
    "    ax.set_xticks(x)\n",
    "    ax.set_xticklabels(labels=x,rotation=rotation,fontsize=12)\n",
    "    sns.despine()\n",
    "    plt.show()"
   ]
  },
  {
   "cell_type": "code",
   "execution_count": 23,
   "metadata": {},
   "outputs": [
    {
     "data": {
      "image/png": "[encoded data removed]",
      "text/plain": [
       "<Figure size 900x600 with 1 Axes>"
      ]
     },
     "metadata": {},
     "output_type": "display_data"
    }
   ],
   "source": [
    "create_bar(cats_gr['category'],cats_gr['count'],['#60a667',\"#558a86\",'#4c9a7e','#8aae44','#c0af1a','#ffa600','#ffd84d','#4c9682'],\n",
    "           'Распределение категорий','Категория','Количество',-30)"
   ]
  },
  {
   "cell_type": "markdown",
   "metadata": {},
   "source": [
    "**Вывод:** очевидно, что в городе преобладают кафе, кофейни и рестораны. Прочие категории заведений заметно отстают в числе."
   ]
  },
  {
   "cell_type": "markdown",
   "metadata": {},
   "source": [
    "Исследуем количество посадочных мест в каждой из категорий заведений:"
   ]
  },
  {
   "cell_type": "code",
   "execution_count": 24,
   "metadata": {},
   "outputs": [],
   "source": [
    "cats_st_median = df.groupby('category').agg({'seats' : 'median'})\n",
    "cats_st_mean = df.groupby('category').agg({'seats' : 'mean'})\n",
    "cats_st = cats_st_median.merge(cats_st_mean,how='left',on=cats_st_median.index)\n",
    "cats_st.columns = ['category','median','mean']\n",
    "cats_st = cats_st.sort_values(by='median',ascending=False).reset_index(drop=True)"
   ]
  },
  {
   "cell_type": "code",
   "execution_count": 25,
   "metadata": {},
   "outputs": [
    {
     "data": {
      "text/html": [
       "<div>\n",
       "<style scoped>\n",
       "    .dataframe tbody tr th:only-of-type {\n",
       "        vertical-align: middle;\n",
       "    }\n",
       "\n",
       "    .dataframe tbody tr th {\n",
       "        vertical-align: top;\n",
       "    }\n",
       "\n",
       "    .dataframe thead th {\n",
       "        text-align: right;\n",
       "    }\n",
       "</style>\n",
       "<table border=\"1\" class=\"dataframe\">\n",
       "  <thead>\n",
       "    <tr style=\"text-align: right;\">\n",
       "      <th></th>\n",
       "      <th>category</th>\n",
       "      <th>median</th>\n",
       "      <th>mean</th>\n",
       "    </tr>\n",
       "  </thead>\n",
       "  <tbody>\n",
       "    <tr>\n",
       "      <th>0</th>\n",
       "      <td>ресторан</td>\n",
       "      <td>86.0</td>\n",
       "      <td>121.944094</td>\n",
       "    </tr>\n",
       "    <tr>\n",
       "      <th>1</th>\n",
       "      <td>бар,паб</td>\n",
       "      <td>82.5</td>\n",
       "      <td>124.532051</td>\n",
       "    </tr>\n",
       "    <tr>\n",
       "      <th>2</th>\n",
       "      <td>кофейня</td>\n",
       "      <td>80.0</td>\n",
       "      <td>111.199734</td>\n",
       "    </tr>\n",
       "    <tr>\n",
       "      <th>3</th>\n",
       "      <td>столовая</td>\n",
       "      <td>75.5</td>\n",
       "      <td>99.750000</td>\n",
       "    </tr>\n",
       "    <tr>\n",
       "      <th>4</th>\n",
       "      <td>быстрое питание</td>\n",
       "      <td>65.0</td>\n",
       "      <td>98.891117</td>\n",
       "    </tr>\n",
       "    <tr>\n",
       "      <th>5</th>\n",
       "      <td>кафе</td>\n",
       "      <td>60.0</td>\n",
       "      <td>97.512315</td>\n",
       "    </tr>\n",
       "    <tr>\n",
       "      <th>6</th>\n",
       "      <td>пиццерия</td>\n",
       "      <td>55.0</td>\n",
       "      <td>94.496487</td>\n",
       "    </tr>\n",
       "    <tr>\n",
       "      <th>7</th>\n",
       "      <td>булочная</td>\n",
       "      <td>50.0</td>\n",
       "      <td>89.385135</td>\n",
       "    </tr>\n",
       "  </tbody>\n",
       "</table>\n",
       "</div>"
      ],
      "text/plain": [
       "          category  median        mean\n",
       "0         ресторан    86.0  121.944094\n",
       "1          бар,паб    82.5  124.532051\n",
       "2          кофейня    80.0  111.199734\n",
       "3         столовая    75.5   99.750000\n",
       "4  быстрое питание    65.0   98.891117\n",
       "5             кафе    60.0   97.512315\n",
       "6         пиццерия    55.0   94.496487\n",
       "7         булочная    50.0   89.385135"
      ]
     },
     "execution_count": 25,
     "metadata": {},
     "output_type": "execute_result"
    }
   ],
   "source": [
    "cats_st"
   ]
  },
  {
   "cell_type": "markdown",
   "metadata": {},
   "source": [
    "Для более точного анализа построим boxplot, который позволит визуально отследить средние значения и выбросы:"
   ]
  },
  {
   "cell_type": "code",
   "execution_count": 26,
   "metadata": {},
   "outputs": [],
   "source": [
    "def create_box(x,y,title,xlabel,ylabel,ylim,color):\n",
    "    fig, ax = plt.subplots(figsize=(12,6),dpi=120)\n",
    "    sns.boxplot(x=x,y=y,palette=color)\n",
    "    ax.set_title(title,fontsize=16)\n",
    "    ax.set_xlabel(xlabel,fontsize=14)\n",
    "    ax.set_ylabel(ylabel,fontsize=14)\n",
    "    ax.set_ylim(0,ylim)\n",
    "    sns.despine()\n",
    "    plt.show()"
   ]
  },
  {
   "cell_type": "code",
   "execution_count": 27,
   "metadata": {},
   "outputs": [
    {
     "data": {
      "image/png": "[encoded data removed]",
      "text/plain": [
       "<Figure size 1440x720 with 1 Axes>"
      ]
     },
     "metadata": {},
     "output_type": "display_data"
    }
   ],
   "source": [
    "pal = {'ресторан':\"#558a86\",'бар,паб':'#8aae44','кофейня':'#4c9a7e',\n",
    "       'столовая':'#ffd84d','быстрое питание':'#ffa600','кафе':'#60a667',\n",
    "      'пиццерия':'#c0af1a','булочная':'#4c9682'}\n",
    "create_box(df['category'],df['seats'],'Распределение мест по категориям','Категория','Число мест',400,pal)"
   ]
  },
  {
   "cell_type": "markdown",
   "metadata": {},
   "source": [
    "**Вывод:** среднее значение мест по категориям разнится не слишком сильно. В меньшую сторону склоняются пиццерии и булочные, в большую - рестораны. Однако дефолтное значение варьируется приблизительно от 60 до 90."
   ]
  },
  {
   "cell_type": "markdown",
   "metadata": {},
   "source": [
    "Сравним сетевые и несетевые заведения города:"
   ]
  },
  {
   "cell_type": "code",
   "execution_count": 28,
   "metadata": {},
   "outputs": [
    {
     "name": "stdout",
     "output_type": "stream",
     "text": [
      "В Москве 3205 сетевых заведений и 5201 несетевых заведений\n"
     ]
    }
   ],
   "source": [
    "print(f\"В Москве {df['chain'].sum()} сетевых заведений и {len(df)-df['chain'].sum()} несетевых заведений\")"
   ]
  },
  {
   "cell_type": "markdown",
   "metadata": {},
   "source": [
    "Несетевых заведений больше, но как обстоят дела по категориям?"
   ]
  },
  {
   "cell_type": "code",
   "execution_count": 29,
   "metadata": {},
   "outputs": [],
   "source": [
    "def find_part(row,b=cats_gr):\n",
    "    x = row['category']\n",
    "    total = int(b[b['category']==x]['count'])\n",
    "    return np.around(row['count']/total,3)"
   ]
  },
  {
   "cell_type": "code",
   "execution_count": 30,
   "metadata": {},
   "outputs": [
    {
     "data": {
      "text/html": [
       "<div>\n",
       "<style scoped>\n",
       "    .dataframe tbody tr th:only-of-type {\n",
       "        vertical-align: middle;\n",
       "    }\n",
       "\n",
       "    .dataframe tbody tr th {\n",
       "        vertical-align: top;\n",
       "    }\n",
       "\n",
       "    .dataframe thead th {\n",
       "        text-align: right;\n",
       "    }\n",
       "</style>\n",
       "<table border=\"1\" class=\"dataframe\">\n",
       "  <thead>\n",
       "    <tr style=\"text-align: right;\">\n",
       "      <th></th>\n",
       "      <th>count</th>\n",
       "      <th>chain</th>\n",
       "      <th>category</th>\n",
       "      <th>part</th>\n",
       "    </tr>\n",
       "  </thead>\n",
       "  <tbody>\n",
       "    <tr>\n",
       "      <th>0</th>\n",
       "      <td>596</td>\n",
       "      <td>0</td>\n",
       "      <td>бар,паб</td>\n",
       "      <td>0.779</td>\n",
       "    </tr>\n",
       "    <tr>\n",
       "      <th>1</th>\n",
       "      <td>227</td>\n",
       "      <td>0</td>\n",
       "      <td>столовая</td>\n",
       "      <td>0.721</td>\n",
       "    </tr>\n",
       "    <tr>\n",
       "      <th>2</th>\n",
       "      <td>1599</td>\n",
       "      <td>0</td>\n",
       "      <td>кафе</td>\n",
       "      <td>0.672</td>\n",
       "    </tr>\n",
       "    <tr>\n",
       "      <th>3</th>\n",
       "      <td>1313</td>\n",
       "      <td>0</td>\n",
       "      <td>ресторан</td>\n",
       "      <td>0.643</td>\n",
       "    </tr>\n",
       "    <tr>\n",
       "      <th>4</th>\n",
       "      <td>371</td>\n",
       "      <td>0</td>\n",
       "      <td>быстрое питание</td>\n",
       "      <td>0.615</td>\n",
       "    </tr>\n",
       "    <tr>\n",
       "      <th>5</th>\n",
       "      <td>157</td>\n",
       "      <td>1</td>\n",
       "      <td>булочная</td>\n",
       "      <td>0.613</td>\n",
       "    </tr>\n",
       "    <tr>\n",
       "      <th>6</th>\n",
       "      <td>330</td>\n",
       "      <td>1</td>\n",
       "      <td>пиццерия</td>\n",
       "      <td>0.521</td>\n",
       "    </tr>\n",
       "    <tr>\n",
       "      <th>7</th>\n",
       "      <td>720</td>\n",
       "      <td>1</td>\n",
       "      <td>кофейня</td>\n",
       "      <td>0.510</td>\n",
       "    </tr>\n",
       "    <tr>\n",
       "      <th>8</th>\n",
       "      <td>693</td>\n",
       "      <td>0</td>\n",
       "      <td>кофейня</td>\n",
       "      <td>0.490</td>\n",
       "    </tr>\n",
       "    <tr>\n",
       "      <th>9</th>\n",
       "      <td>303</td>\n",
       "      <td>0</td>\n",
       "      <td>пиццерия</td>\n",
       "      <td>0.479</td>\n",
       "    </tr>\n",
       "    <tr>\n",
       "      <th>10</th>\n",
       "      <td>99</td>\n",
       "      <td>0</td>\n",
       "      <td>булочная</td>\n",
       "      <td>0.387</td>\n",
       "    </tr>\n",
       "    <tr>\n",
       "      <th>11</th>\n",
       "      <td>232</td>\n",
       "      <td>1</td>\n",
       "      <td>быстрое питание</td>\n",
       "      <td>0.385</td>\n",
       "    </tr>\n",
       "    <tr>\n",
       "      <th>12</th>\n",
       "      <td>730</td>\n",
       "      <td>1</td>\n",
       "      <td>ресторан</td>\n",
       "      <td>0.357</td>\n",
       "    </tr>\n",
       "    <tr>\n",
       "      <th>13</th>\n",
       "      <td>779</td>\n",
       "      <td>1</td>\n",
       "      <td>кафе</td>\n",
       "      <td>0.328</td>\n",
       "    </tr>\n",
       "    <tr>\n",
       "      <th>14</th>\n",
       "      <td>88</td>\n",
       "      <td>1</td>\n",
       "      <td>столовая</td>\n",
       "      <td>0.279</td>\n",
       "    </tr>\n",
       "    <tr>\n",
       "      <th>15</th>\n",
       "      <td>169</td>\n",
       "      <td>1</td>\n",
       "      <td>бар,паб</td>\n",
       "      <td>0.221</td>\n",
       "    </tr>\n",
       "  </tbody>\n",
       "</table>\n",
       "</div>"
      ],
      "text/plain": [
       "    count  chain         category   part\n",
       "0     596      0          бар,паб  0.779\n",
       "1     227      0         столовая  0.721\n",
       "2    1599      0             кафе  0.672\n",
       "3    1313      0         ресторан  0.643\n",
       "4     371      0  быстрое питание  0.615\n",
       "5     157      1         булочная  0.613\n",
       "6     330      1         пиццерия  0.521\n",
       "7     720      1          кофейня  0.510\n",
       "8     693      0          кофейня  0.490\n",
       "9     303      0         пиццерия  0.479\n",
       "10     99      0         булочная  0.387\n",
       "11    232      1  быстрое питание  0.385\n",
       "12    730      1         ресторан  0.357\n",
       "13    779      1             кафе  0.328\n",
       "14     88      1         столовая  0.279\n",
       "15    169      1          бар,паб  0.221"
      ]
     },
     "execution_count": 30,
     "metadata": {},
     "output_type": "execute_result"
    }
   ],
   "source": [
    "a = df.groupby(['category','chain']).agg({'address':'count'}).rename(columns={'address':'count'})\n",
    "a['chain'] = [i[1] for i in a.index]\n",
    "a = a.droplevel('chain')\n",
    "a['category'] = a.index\n",
    "a = a.reset_index(drop=True)\n",
    "a['part'] = a.apply(find_part,axis=1)\n",
    "a = a.sort_values(by=['part'],ascending=False).reset_index(drop=True)\n",
    "a"
   ]
  },
  {
   "cell_type": "code",
   "execution_count": 31,
   "metadata": {},
   "outputs": [],
   "source": [
    "def create_twinbar(x,y,title,xlabel,ylabel,hue,palette):\n",
    "    fig, ax = plt.subplots(figsize=(12,6),dpi=120)\n",
    "    sns.barplot(data=a,x=x,y=y,hue=hue,palette=palette)\n",
    "    ax.set_title(title,fontsize=16)\n",
    "    ax.set_xlabel(xlabel,fontsize=14)\n",
    "    ax.set_ylabel(ylabel,fontsize=14)\n",
    "    sns.despine()\n",
    "    plt.show()"
   ]
  },
  {
   "cell_type": "code",
   "execution_count": 32,
   "metadata": {},
   "outputs": [
    {
     "data": {
      "image/png": "[encoded data removed]",
      "text/plain": [
       "<Figure size 1440x720 with 1 Axes>"
      ]
     },
     "metadata": {},
     "output_type": "display_data"
    }
   ],
   "source": [
    "create_twinbar(a['category'],a['part'],'Категории по принадлежности к сетям',\n",
    "               'Категория','Соотношение',a['chain'],['#558a86','#ffa600'])"
   ]
  },
  {
   "cell_type": "markdown",
   "metadata": {},
   "source": [
    "**Вывод:** больше булочные, пиццерии и кофейни чаще всего оказываются сетевыми, в то время как бары, столовые, кафе, рестораны и точки быстрого питания в большинстве случаев представляют из себя самостоятельные заведения."
   ]
  },
  {
   "cell_type": "markdown",
   "metadata": {},
   "source": [
    "Далее рассмотрим перечень самых популярных сетей Москвы. Отберем их по следующему признаку: возьмем те сети, у которых в городе больше всего филиалов."
   ]
  },
  {
   "cell_type": "code",
   "execution_count": 33,
   "metadata": {},
   "outputs": [
    {
     "data": {
      "text/html": [
       "<div>\n",
       "<style scoped>\n",
       "    .dataframe tbody tr th:only-of-type {\n",
       "        vertical-align: middle;\n",
       "    }\n",
       "\n",
       "    .dataframe tbody tr th {\n",
       "        vertical-align: top;\n",
       "    }\n",
       "\n",
       "    .dataframe thead th {\n",
       "        text-align: right;\n",
       "    }\n",
       "</style>\n",
       "<table border=\"1\" class=\"dataframe\">\n",
       "  <thead>\n",
       "    <tr style=\"text-align: right;\">\n",
       "      <th></th>\n",
       "      <th>count</th>\n",
       "      <th>category</th>\n",
       "    </tr>\n",
       "    <tr>\n",
       "      <th>name</th>\n",
       "      <th></th>\n",
       "      <th></th>\n",
       "    </tr>\n",
       "  </thead>\n",
       "  <tbody>\n",
       "    <tr>\n",
       "      <th>Шоколадница</th>\n",
       "      <td>120</td>\n",
       "      <td>кофейня</td>\n",
       "    </tr>\n",
       "    <tr>\n",
       "      <th>Домино'с Пицца</th>\n",
       "      <td>76</td>\n",
       "      <td>пиццерия</td>\n",
       "    </tr>\n",
       "    <tr>\n",
       "      <th>Додо Пицца</th>\n",
       "      <td>74</td>\n",
       "      <td>пиццерия</td>\n",
       "    </tr>\n",
       "    <tr>\n",
       "      <th>One Price Coffee</th>\n",
       "      <td>71</td>\n",
       "      <td>кофейня</td>\n",
       "    </tr>\n",
       "    <tr>\n",
       "      <th>Яндекс Лавка</th>\n",
       "      <td>69</td>\n",
       "      <td>ресторан</td>\n",
       "    </tr>\n",
       "    <tr>\n",
       "      <th>Cofix</th>\n",
       "      <td>65</td>\n",
       "      <td>кофейня</td>\n",
       "    </tr>\n",
       "    <tr>\n",
       "      <th>Prime</th>\n",
       "      <td>50</td>\n",
       "      <td>ресторан</td>\n",
       "    </tr>\n",
       "    <tr>\n",
       "      <th>Хинкальная</th>\n",
       "      <td>44</td>\n",
       "      <td>быстрое питание</td>\n",
       "    </tr>\n",
       "    <tr>\n",
       "      <th>КОФЕПОРТ</th>\n",
       "      <td>42</td>\n",
       "      <td>кофейня</td>\n",
       "    </tr>\n",
       "    <tr>\n",
       "      <th>Кулинарная лавка братьев Караваевых</th>\n",
       "      <td>39</td>\n",
       "      <td>кафе</td>\n",
       "    </tr>\n",
       "    <tr>\n",
       "      <th>Теремок</th>\n",
       "      <td>38</td>\n",
       "      <td>ресторан</td>\n",
       "    </tr>\n",
       "    <tr>\n",
       "      <th>Чайхана</th>\n",
       "      <td>37</td>\n",
       "      <td>кафе</td>\n",
       "    </tr>\n",
       "    <tr>\n",
       "      <th>CofeFest</th>\n",
       "      <td>32</td>\n",
       "      <td>кофейня</td>\n",
       "    </tr>\n",
       "    <tr>\n",
       "      <th>Буханка</th>\n",
       "      <td>32</td>\n",
       "      <td>булочная</td>\n",
       "    </tr>\n",
       "    <tr>\n",
       "      <th>Му-Му</th>\n",
       "      <td>27</td>\n",
       "      <td>кафе</td>\n",
       "    </tr>\n",
       "  </tbody>\n",
       "</table>\n",
       "</div>"
      ],
      "text/plain": [
       "                                     count         category\n",
       "name                                                       \n",
       "Шоколадница                            120          кофейня\n",
       "Домино'с Пицца                          76         пиццерия\n",
       "Додо Пицца                              74         пиццерия\n",
       "One Price Coffee                        71          кофейня\n",
       "Яндекс Лавка                            69         ресторан\n",
       "Cofix                                   65          кофейня\n",
       "Prime                                   50         ресторан\n",
       "Хинкальная                              44  быстрое питание\n",
       "КОФЕПОРТ                                42          кофейня\n",
       "Кулинарная лавка братьев Караваевых     39             кафе\n",
       "Теремок                                 38         ресторан\n",
       "Чайхана                                 37             кафе\n",
       "CofeFest                                32          кофейня\n",
       "Буханка                                 32         булочная\n",
       "Му-Му                                   27             кафе"
      ]
     },
     "execution_count": 33,
     "metadata": {},
     "output_type": "execute_result"
    }
   ],
   "source": [
    "best_chains = df[df['chain']==1].groupby('name').agg({'name':'count','category':'first'}).\\\n",
    "rename(columns={'name':'count'}).sort_values(by='count',ascending=False)\n",
    "best_chains = best_chains.head(15)\n",
    "best_chains"
   ]
  },
  {
   "cell_type": "code",
   "execution_count": 34,
   "metadata": {},
   "outputs": [],
   "source": [
    "def create_multybar(x,y,hue,palette,title,xaxis,yaxis,legtitle):\n",
    "    fig = px.bar(x=x,y=y,color=hue,color_discrete_sequence=palette)\n",
    "    fig.update_layout(width=950,height=550,title=title,xaxis_title=xaxis,\n",
    "                      yaxis_title=yaxis,template=\"plotly_dark\",font=dict(size=15),legend=dict(title=legtitle))\n",
    "    fig.show(\"png\")"
   ]
  },
  {
   "cell_type": "code",
   "execution_count": 35,
   "metadata": {},
   "outputs": [
    {
     "data": {
      "image/png": "[encoded data removed]"
     },
     "metadata": {},
     "output_type": "display_data"
    }
   ],
   "source": [
    "create_multybar(best_chains['count'],best_chains.index,best_chains['category'],\n",
    "                [\"#4c9a7e\",'#c0af1a','#558a86','#ffa600','#60a667','#4c9682'],\n",
    "               'Лучшие сети Москвы',\"Количество точек\",'Сеть',\"Категории:\")"
   ]
  },
  {
   "cell_type": "markdown",
   "metadata": {},
   "source": [
    "**Вывод:** эти сети действительно достаточно известны. Среди них больше всего кофейен, однако есть также рестораны, кафе и представители прочих категорий."
   ]
  },
  {
   "cell_type": "markdown",
   "metadata": {},
   "source": [
    "Посмотрим, как обстоят дела с категориями заведений по районам:"
   ]
  },
  {
   "cell_type": "code",
   "execution_count": 36,
   "metadata": {},
   "outputs": [
    {
     "data": {
      "text/html": [
       "<div>\n",
       "<style scoped>\n",
       "    .dataframe tbody tr th:only-of-type {\n",
       "        vertical-align: middle;\n",
       "    }\n",
       "\n",
       "    .dataframe tbody tr th {\n",
       "        vertical-align: top;\n",
       "    }\n",
       "\n",
       "    .dataframe thead th {\n",
       "        text-align: right;\n",
       "    }\n",
       "</style>\n",
       "<table border=\"1\" class=\"dataframe\">\n",
       "  <thead>\n",
       "    <tr style=\"text-align: right;\">\n",
       "      <th></th>\n",
       "      <th>count</th>\n",
       "      <th>category</th>\n",
       "      <th>district</th>\n",
       "    </tr>\n",
       "  </thead>\n",
       "  <tbody>\n",
       "    <tr>\n",
       "      <th>0</th>\n",
       "      <td>53</td>\n",
       "      <td>бар,паб</td>\n",
       "      <td>Восточный административный округ</td>\n",
       "    </tr>\n",
       "    <tr>\n",
       "      <th>1</th>\n",
       "      <td>25</td>\n",
       "      <td>булочная</td>\n",
       "      <td>Восточный административный округ</td>\n",
       "    </tr>\n",
       "    <tr>\n",
       "      <th>2</th>\n",
       "      <td>71</td>\n",
       "      <td>быстрое питание</td>\n",
       "      <td>Восточный административный округ</td>\n",
       "    </tr>\n",
       "    <tr>\n",
       "      <th>3</th>\n",
       "      <td>272</td>\n",
       "      <td>кафе</td>\n",
       "      <td>Восточный административный округ</td>\n",
       "    </tr>\n",
       "    <tr>\n",
       "      <th>4</th>\n",
       "      <td>105</td>\n",
       "      <td>кофейня</td>\n",
       "      <td>Восточный административный округ</td>\n",
       "    </tr>\n",
       "  </tbody>\n",
       "</table>\n",
       "</div>"
      ],
      "text/plain": [
       "   count         category                          district\n",
       "0     53          бар,паб  Восточный административный округ\n",
       "1     25         булочная  Восточный административный округ\n",
       "2     71  быстрое питание  Восточный административный округ\n",
       "3    272             кафе  Восточный административный округ\n",
       "4    105          кофейня  Восточный административный округ"
      ]
     },
     "execution_count": 36,
     "metadata": {},
     "output_type": "execute_result"
    }
   ],
   "source": [
    "dist_cat = df.groupby(['district','category']).agg({'address':'count'})\n",
    "dist_cat['category'] = [i[1] for i in dist_cat.index]\n",
    "dist_cat = dist_cat.droplevel('category')\n",
    "dist_cat['district'] = dist_cat.index\n",
    "dist_cat = dist_cat.reset_index(drop=True)\n",
    "dist_cat = dist_cat.rename(columns={'address':'count'})\n",
    "dist_cat.head()"
   ]
  },
  {
   "cell_type": "code",
   "execution_count": 37,
   "metadata": {},
   "outputs": [
    {
     "data": {
      "image/png": "[encoded data removed]"
     },
     "metadata": {},
     "output_type": "display_data"
    }
   ],
   "source": [
    "create_multybar(dist_cat['count'],dist_cat['district'],dist_cat['category'],['#8aae44','#4c9682','#ffa600','#60a667','#4c9a7e','#c0af1a',\"#558a86\",'#ffd84d'],\n",
    "               'Заведения по категориям и районам',\"Количество\",'Район',\"Категории:\")"
   ]
  },
  {
   "cell_type": "markdown",
   "metadata": {},
   "source": [
    "**Вывод:** категории заведений распределены по районам относительно равномерно, однако почти везде превалируют кафе и рестораны. Самое большое число общепитов расположено в Центральном округе. Северо-Западный округ отстает от других по всем статьям."
   ]
  },
  {
   "cell_type": "markdown",
   "metadata": {},
   "source": [
    "Оценим все категории заведений по их средним оценкам в системе Яндекс Карт:"
   ]
  },
  {
   "cell_type": "code",
   "execution_count": 38,
   "metadata": {},
   "outputs": [
    {
     "data": {
      "text/html": [
       "<div>\n",
       "<style scoped>\n",
       "    .dataframe tbody tr th:only-of-type {\n",
       "        vertical-align: middle;\n",
       "    }\n",
       "\n",
       "    .dataframe tbody tr th {\n",
       "        vertical-align: top;\n",
       "    }\n",
       "\n",
       "    .dataframe thead th {\n",
       "        text-align: right;\n",
       "    }\n",
       "</style>\n",
       "<table border=\"1\" class=\"dataframe\">\n",
       "  <thead>\n",
       "    <tr style=\"text-align: right;\">\n",
       "      <th></th>\n",
       "      <th>rating</th>\n",
       "    </tr>\n",
       "    <tr>\n",
       "      <th>category</th>\n",
       "      <th></th>\n",
       "    </tr>\n",
       "  </thead>\n",
       "  <tbody>\n",
       "    <tr>\n",
       "      <th>бар,паб</th>\n",
       "      <td>4.388</td>\n",
       "    </tr>\n",
       "    <tr>\n",
       "      <th>пиццерия</th>\n",
       "      <td>4.301</td>\n",
       "    </tr>\n",
       "    <tr>\n",
       "      <th>ресторан</th>\n",
       "      <td>4.290</td>\n",
       "    </tr>\n",
       "    <tr>\n",
       "      <th>кофейня</th>\n",
       "      <td>4.277</td>\n",
       "    </tr>\n",
       "    <tr>\n",
       "      <th>булочная</th>\n",
       "      <td>4.268</td>\n",
       "    </tr>\n",
       "    <tr>\n",
       "      <th>столовая</th>\n",
       "      <td>4.211</td>\n",
       "    </tr>\n",
       "    <tr>\n",
       "      <th>кафе</th>\n",
       "      <td>4.124</td>\n",
       "    </tr>\n",
       "    <tr>\n",
       "      <th>быстрое питание</th>\n",
       "      <td>4.050</td>\n",
       "    </tr>\n",
       "  </tbody>\n",
       "</table>\n",
       "</div>"
      ],
      "text/plain": [
       "                 rating\n",
       "category               \n",
       "бар,паб           4.388\n",
       "пиццерия          4.301\n",
       "ресторан          4.290\n",
       "кофейня           4.277\n",
       "булочная          4.268\n",
       "столовая          4.211\n",
       "кафе              4.124\n",
       "быстрое питание   4.050"
      ]
     },
     "execution_count": 38,
     "metadata": {},
     "output_type": "execute_result"
    }
   ],
   "source": [
    "cat_rat = df.groupby('category').agg({'rating':'mean'}).sort_values(by='rating',ascending=False)\n",
    "cat_rat['rating'] = np.around(cat_rat['rating'],3)\n",
    "cat_rat"
   ]
  },
  {
   "cell_type": "code",
   "execution_count": 39,
   "metadata": {},
   "outputs": [
    {
     "data": {
      "image/png": "[encoded data removed]",
      "text/plain": [
       "<Figure size 900x600 with 1 Axes>"
      ]
     },
     "metadata": {},
     "output_type": "display_data"
    }
   ],
   "source": [
    "create_bar(cat_rat.index,cat_rat['rating'],['#8aae44','#c0af1a',\"#558a86\",'#4c9a7e','#4c9682','#ffd84d','#60a667','#ffa600'],\n",
    "           'Оценки по категориям','Категория','Средняя оценка',-65)"
   ]
  },
  {
   "cell_type": "markdown",
   "metadata": {},
   "source": [
    "**Вывод:** если рассматривать чистые средние оценки по категориям без влияния сторонних факторов, то можно сказать, что существенной разницы между ними нет. Выходит, что все зависит не от категории, а от конкретного заведения."
   ]
  },
  {
   "cell_type": "markdown",
   "metadata": {},
   "source": [
    "Разберем полученное распределение более тщательно: выделим 15 наиболее популярных для подобных заведений улиц."
   ]
  },
  {
   "cell_type": "code",
   "execution_count": 40,
   "metadata": {},
   "outputs": [
    {
     "data": {
      "text/html": [
       "<div>\n",
       "<style scoped>\n",
       "    .dataframe tbody tr th:only-of-type {\n",
       "        vertical-align: middle;\n",
       "    }\n",
       "\n",
       "    .dataframe tbody tr th {\n",
       "        vertical-align: top;\n",
       "    }\n",
       "\n",
       "    .dataframe thead th {\n",
       "        text-align: right;\n",
       "    }\n",
       "</style>\n",
       "<table border=\"1\" class=\"dataframe\">\n",
       "  <thead>\n",
       "    <tr style=\"text-align: right;\">\n",
       "      <th></th>\n",
       "      <th>count</th>\n",
       "      <th>category</th>\n",
       "      <th>street</th>\n",
       "    </tr>\n",
       "  </thead>\n",
       "  <tbody>\n",
       "    <tr>\n",
       "      <th>0</th>\n",
       "      <td>1</td>\n",
       "      <td>кафе</td>\n",
       "      <td>1-й Автозаводский проезд</td>\n",
       "    </tr>\n",
       "    <tr>\n",
       "      <th>1</th>\n",
       "      <td>1</td>\n",
       "      <td>ресторан</td>\n",
       "      <td>1-й Балтийский переулок</td>\n",
       "    </tr>\n",
       "    <tr>\n",
       "      <th>2</th>\n",
       "      <td>1</td>\n",
       "      <td>кафе</td>\n",
       "      <td>1-й Варшавский проезд</td>\n",
       "    </tr>\n",
       "    <tr>\n",
       "      <th>3</th>\n",
       "      <td>1</td>\n",
       "      <td>кафе</td>\n",
       "      <td>1-й Вешняковский проезд</td>\n",
       "    </tr>\n",
       "    <tr>\n",
       "      <th>4</th>\n",
       "      <td>1</td>\n",
       "      <td>кафе</td>\n",
       "      <td>1-й Волоколамский проезд</td>\n",
       "    </tr>\n",
       "  </tbody>\n",
       "</table>\n",
       "</div>"
      ],
      "text/plain": [
       "   count  category                    street\n",
       "0      1      кафе  1-й Автозаводский проезд\n",
       "1      1  ресторан   1-й Балтийский переулок\n",
       "2      1      кафе     1-й Варшавский проезд\n",
       "3      1      кафе   1-й Вешняковский проезд\n",
       "4      1      кафе  1-й Волоколамский проезд"
      ]
     },
     "execution_count": 40,
     "metadata": {},
     "output_type": "execute_result"
    }
   ],
   "source": [
    "street_cat = df.groupby(['street','category']).agg({'address':'count'})\n",
    "street_cat['category'] = [i[1] for i in street_cat.index]\n",
    "street_cat = street_cat.droplevel('category')\n",
    "street_cat['street'] = street_cat.index\n",
    "street_cat = street_cat.reset_index(drop=True)\n",
    "street_cat = street_cat.rename(columns={'address':'count'})\n",
    "street_cat.head()"
   ]
  },
  {
   "cell_type": "code",
   "execution_count": 41,
   "metadata": {},
   "outputs": [],
   "source": [
    "ogr = df.groupby('street').agg({'address':'count'}).sort_values(by='address',ascending=False).head(15)"
   ]
  },
  {
   "cell_type": "code",
   "execution_count": 42,
   "metadata": {},
   "outputs": [
    {
     "data": {
      "image/png": "[encoded data removed]"
     },
     "metadata": {},
     "output_type": "display_data"
    }
   ],
   "source": [
    "create_multybar(street_cat[street_cat['street'].isin(ogr.index)]['count'],street_cat[street_cat['street'].isin(ogr.index)]['street'],street_cat[street_cat['street'].isin(ogr.index)]['category'],\n",
    "                ['#8aae44','#ffa600','#60a667','#4c9a7e','#c0af1a','#558a86',\"#ffd84d\",'#4c9682'],\n",
    "                'Заведения по категориям и улицам',\"Количество\",'Улица',\"Категории:\")"
   ]
  },
  {
   "cell_type": "markdown",
   "metadata": {},
   "source": [
    "**Вывод:** наилучшие результаты по количеству заведений общепита показывает простект Мира. За ним следуют Профсоюзная улица, Ленинский проспект, проспект Вернадского и другие. На этих улицах количество кафе и ресторанов разительно выделяется на фоне прочих категорий. Следуюущей по популярости категорией являются кофейни."
   ]
  },
  {
   "cell_type": "code",
   "execution_count": 43,
   "metadata": {},
   "outputs": [
    {
     "data": {
      "text/html": [
       "<div>\n",
       "<style scoped>\n",
       "    .dataframe tbody tr th:only-of-type {\n",
       "        vertical-align: middle;\n",
       "    }\n",
       "\n",
       "    .dataframe tbody tr th {\n",
       "        vertical-align: top;\n",
       "    }\n",
       "\n",
       "    .dataframe thead th {\n",
       "        text-align: right;\n",
       "    }\n",
       "</style>\n",
       "<table border=\"1\" class=\"dataframe\">\n",
       "  <thead>\n",
       "    <tr style=\"text-align: right;\">\n",
       "      <th></th>\n",
       "      <th>count</th>\n",
       "    </tr>\n",
       "    <tr>\n",
       "      <th>street</th>\n",
       "      <th></th>\n",
       "    </tr>\n",
       "  </thead>\n",
       "  <tbody>\n",
       "    <tr>\n",
       "      <th>1-й Автозаводский проезд</th>\n",
       "      <td>1</td>\n",
       "    </tr>\n",
       "    <tr>\n",
       "      <th>Одинцовская улица</th>\n",
       "      <td>1</td>\n",
       "    </tr>\n",
       "    <tr>\n",
       "      <th>Октябрьский переулок</th>\n",
       "      <td>1</td>\n",
       "    </tr>\n",
       "    <tr>\n",
       "      <th>Ордынский тупик</th>\n",
       "      <td>1</td>\n",
       "    </tr>\n",
       "    <tr>\n",
       "      <th>Оренбургская улица</th>\n",
       "      <td>1</td>\n",
       "    </tr>\n",
       "  </tbody>\n",
       "</table>\n",
       "</div>"
      ],
      "text/plain": [
       "                          count\n",
       "street                         \n",
       "1-й Автозаводский проезд      1\n",
       "Одинцовская улица             1\n",
       "Октябрьский переулок          1\n",
       "Ордынский тупик               1\n",
       "Оренбургская улица            1"
      ]
     },
     "execution_count": 43,
     "metadata": {},
     "output_type": "execute_result"
    }
   ],
   "source": [
    "worst_streets =  df.groupby('street').agg({'address':'count'}).sort_values(by='address').rename(columns={'address':'count'})\n",
    "worst_streets = worst_streets[worst_streets['count']==1]\n",
    "worst_streets.head()"
   ]
  },
  {
   "cell_type": "code",
   "execution_count": 44,
   "metadata": {},
   "outputs": [
    {
     "data": {
      "text/plain": [
       "458"
      ]
     },
     "execution_count": 44,
     "metadata": {},
     "output_type": "execute_result"
    }
   ],
   "source": [
    "len(worst_streets)"
   ]
  },
  {
   "cell_type": "markdown",
   "metadata": {},
   "source": [
    "В Москве также есть 458 улиц, на которых расположено только по 1 заведению. Какие-то из этих улиц могут быть слишком малы, какие-то - слишком безлюдны, а какие-то могут быть выгодными точками, на которых одно заведение удерживает монопольную власть. Обобщать в данном случае было бы неправильно."
   ]
  },
  {
   "cell_type": "markdown",
   "metadata": {},
   "source": [
    "Попробуем посчитать медианное значение средних чеков для заведений каждого района:"
   ]
  },
  {
   "cell_type": "code",
   "execution_count": 45,
   "metadata": {},
   "outputs": [
    {
     "data": {
      "text/html": [
       "<div>\n",
       "<style scoped>\n",
       "    .dataframe tbody tr th:only-of-type {\n",
       "        vertical-align: middle;\n",
       "    }\n",
       "\n",
       "    .dataframe tbody tr th {\n",
       "        vertical-align: top;\n",
       "    }\n",
       "\n",
       "    .dataframe thead th {\n",
       "        text-align: right;\n",
       "    }\n",
       "</style>\n",
       "<table border=\"1\" class=\"dataframe\">\n",
       "  <thead>\n",
       "    <tr style=\"text-align: right;\">\n",
       "      <th></th>\n",
       "      <th>name</th>\n",
       "      <th>category</th>\n",
       "      <th>address</th>\n",
       "      <th>district</th>\n",
       "      <th>hours</th>\n",
       "      <th>lat</th>\n",
       "      <th>lng</th>\n",
       "      <th>rating</th>\n",
       "      <th>price</th>\n",
       "      <th>avg_bill</th>\n",
       "      <th>middle_avg_bill</th>\n",
       "      <th>middle_coffee_cup</th>\n",
       "      <th>chain</th>\n",
       "      <th>seats</th>\n",
       "      <th>street</th>\n",
       "      <th>is_24/7</th>\n",
       "    </tr>\n",
       "  </thead>\n",
       "  <tbody>\n",
       "    <tr>\n",
       "      <th>1</th>\n",
       "      <td>Четыре комнаты</td>\n",
       "      <td>ресторан</td>\n",
       "      <td>Москва, улица Дыбенко, 36, корп. 1</td>\n",
       "      <td>Северный административный округ</td>\n",
       "      <td>ежедневно, 10:00–22:00</td>\n",
       "      <td>55.875801</td>\n",
       "      <td>37.484479</td>\n",
       "      <td>4.5</td>\n",
       "      <td>выше среднего</td>\n",
       "      <td>Средний счёт:1500–1600 ₽</td>\n",
       "      <td>1550.0</td>\n",
       "      <td>NaN</td>\n",
       "      <td>0</td>\n",
       "      <td>4.0</td>\n",
       "      <td>улица Дыбенко</td>\n",
       "      <td>False</td>\n",
       "    </tr>\n",
       "    <tr>\n",
       "      <th>2</th>\n",
       "      <td>Хазри</td>\n",
       "      <td>кафе</td>\n",
       "      <td>Москва, Клязьминская улица, 15</td>\n",
       "      <td>Северный административный округ</td>\n",
       "      <td>пн-чт 11:00–02:00; пт,сб 11:00–05:00; вс 11:00...</td>\n",
       "      <td>55.889146</td>\n",
       "      <td>37.525901</td>\n",
       "      <td>4.6</td>\n",
       "      <td>средние</td>\n",
       "      <td>Средний счёт:от 1000 ₽</td>\n",
       "      <td>1000.0</td>\n",
       "      <td>NaN</td>\n",
       "      <td>0</td>\n",
       "      <td>45.0</td>\n",
       "      <td>Клязьминская улица</td>\n",
       "      <td>False</td>\n",
       "    </tr>\n",
       "  </tbody>\n",
       "</table>\n",
       "</div>"
      ],
      "text/plain": [
       "             name  category                             address  \\\n",
       "1  Четыре комнаты  ресторан  Москва, улица Дыбенко, 36, корп. 1   \n",
       "2           Хазри      кафе      Москва, Клязьминская улица, 15   \n",
       "\n",
       "                          district  \\\n",
       "1  Северный административный округ   \n",
       "2  Северный административный округ   \n",
       "\n",
       "                                               hours        lat        lng  \\\n",
       "1                             ежедневно, 10:00–22:00  55.875801  37.484479   \n",
       "2  пн-чт 11:00–02:00; пт,сб 11:00–05:00; вс 11:00...  55.889146  37.525901   \n",
       "\n",
       "   rating          price                  avg_bill  middle_avg_bill  \\\n",
       "1     4.5  выше среднего  Средний счёт:1500–1600 ₽           1550.0   \n",
       "2     4.6        средние    Средний счёт:от 1000 ₽           1000.0   \n",
       "\n",
       "   middle_coffee_cup  chain  seats              street  is_24/7  \n",
       "1                NaN      0    4.0       улица Дыбенко    False  \n",
       "2                NaN      0   45.0  Клязьминская улица    False  "
      ]
     },
     "execution_count": 45,
     "metadata": {},
     "output_type": "execute_result"
    }
   ],
   "source": [
    "samp = df[df['middle_avg_bill'].notna()]\n",
    "samp.head(2)"
   ]
  },
  {
   "cell_type": "code",
   "execution_count": 46,
   "metadata": {},
   "outputs": [
    {
     "data": {
      "text/html": [
       "<div>\n",
       "<style scoped>\n",
       "    .dataframe tbody tr th:only-of-type {\n",
       "        vertical-align: middle;\n",
       "    }\n",
       "\n",
       "    .dataframe tbody tr th {\n",
       "        vertical-align: top;\n",
       "    }\n",
       "\n",
       "    .dataframe thead th {\n",
       "        text-align: right;\n",
       "    }\n",
       "</style>\n",
       "<table border=\"1\" class=\"dataframe\">\n",
       "  <thead>\n",
       "    <tr style=\"text-align: right;\">\n",
       "      <th></th>\n",
       "      <th>district</th>\n",
       "      <th>median_district_bill</th>\n",
       "    </tr>\n",
       "  </thead>\n",
       "  <tbody>\n",
       "    <tr>\n",
       "      <th>1</th>\n",
       "      <td>Западный административный округ</td>\n",
       "      <td>1000.0</td>\n",
       "    </tr>\n",
       "    <tr>\n",
       "      <th>5</th>\n",
       "      <td>Центральный административный округ</td>\n",
       "      <td>1000.0</td>\n",
       "    </tr>\n",
       "    <tr>\n",
       "      <th>4</th>\n",
       "      <td>Северо-Западный административный округ</td>\n",
       "      <td>700.0</td>\n",
       "    </tr>\n",
       "    <tr>\n",
       "      <th>2</th>\n",
       "      <td>Северный административный округ</td>\n",
       "      <td>650.0</td>\n",
       "    </tr>\n",
       "    <tr>\n",
       "      <th>7</th>\n",
       "      <td>Юго-Западный административный округ</td>\n",
       "      <td>600.0</td>\n",
       "    </tr>\n",
       "    <tr>\n",
       "      <th>0</th>\n",
       "      <td>Восточный административный округ</td>\n",
       "      <td>575.0</td>\n",
       "    </tr>\n",
       "    <tr>\n",
       "      <th>3</th>\n",
       "      <td>Северо-Восточный административный округ</td>\n",
       "      <td>500.0</td>\n",
       "    </tr>\n",
       "    <tr>\n",
       "      <th>8</th>\n",
       "      <td>Южный административный округ</td>\n",
       "      <td>500.0</td>\n",
       "    </tr>\n",
       "    <tr>\n",
       "      <th>6</th>\n",
       "      <td>Юго-Восточный административный округ</td>\n",
       "      <td>450.0</td>\n",
       "    </tr>\n",
       "  </tbody>\n",
       "</table>\n",
       "</div>"
      ],
      "text/plain": [
       "                                  district  median_district_bill\n",
       "1          Западный административный округ                1000.0\n",
       "5       Центральный административный округ                1000.0\n",
       "4   Северо-Западный административный округ                 700.0\n",
       "2          Северный административный округ                 650.0\n",
       "7      Юго-Западный административный округ                 600.0\n",
       "0         Восточный административный округ                 575.0\n",
       "3  Северо-Восточный административный округ                 500.0\n",
       "8             Южный административный округ                 500.0\n",
       "6     Юго-Восточный административный округ                 450.0"
      ]
     },
     "execution_count": 46,
     "metadata": {},
     "output_type": "execute_result"
    }
   ],
   "source": [
    "samp_gr = samp.groupby('district',as_index=False).agg({'middle_avg_bill':'median'}).\\\n",
    "rename(columns={'middle_avg_bill':'median_district_bill'}).sort_values(by='median_district_bill',ascending=False)\n",
    "samp_gr"
   ]
  },
  {
   "cell_type": "markdown",
   "metadata": {},
   "source": [
    "**Вывод:** самые высокие цены наблюдаются, вновь, в центре Москвы. Далее, по мере отдаления от него на Север и на Восток, цены планомерно уменьшаются. Однако Западное и Юго-Западное направление сохраняют довольно высокую планку цен до самых границ города."
   ]
  },
  {
   "cell_type": "markdown",
   "metadata": {},
   "source": [
    "### Итоги анализа:"
   ]
  },
  {
   "cell_type": "markdown",
   "metadata": {},
   "source": [
    "Проведенный анализ рынка позволил сделать следующие выводы:"
   ]
  },
  {
   "cell_type": "markdown",
   "metadata": {},
   "source": [
    "1) Наибольшая активность данного сектора прослеживается в центральном районе города. Там наиболее высокая конкуренция, но и самый высокий спрос, а следовательно - цены."
   ]
  },
  {
   "cell_type": "markdown",
   "metadata": {},
   "source": [
    "2) Большой популярностью у заведений общественного питания пользуется Проспект мира. Там очень много кафе и ресторанов."
   ]
  },
  {
   "cell_type": "markdown",
   "metadata": {},
   "source": [
    "3) Средние оценки заведений значимо не зависят ни от их категории, ни от их места расположения. Это значит, что при прочих равных всегда можно достичь достойного результата, если предоставлять действительно качественный сервис."
   ]
  },
  {
   "cell_type": "markdown",
   "metadata": {},
   "source": [
    "4) Рынок булочных и пиццерий более чем на половину занят крупными и небольшими сетями, поэтому войти на него будет сложнее."
   ]
  },
  {
   "cell_type": "markdown",
   "metadata": {},
   "source": [
    "5) Кафе и ресторанов в городе уже очень много. На этом рынке можно столкнуться с переизбытком предложения."
   ]
  },
  {
   "cell_type": "markdown",
   "metadata": {},
   "source": [
    "## Решения и выводы\n",
    "<a id=\"sol\"></a> "
   ]
  },
  {
   "cell_type": "markdown",
   "metadata": {},
   "source": [
    "На основании проведенного анализа было решено, что оптимальным выбором при текущих рыночных условиях будет открытие **кофейни**. Следовательно, следующий этап работы будет посвящен подготовке почвы конкретно для этого, а также вынесению окончательного вердикта по работе."
   ]
  },
  {
   "cell_type": "code",
   "execution_count": 47,
   "metadata": {},
   "outputs": [],
   "source": [
    "cof = df[df['category']=='кофейня']"
   ]
  },
  {
   "cell_type": "code",
   "execution_count": 48,
   "metadata": {},
   "outputs": [
    {
     "name": "stdout",
     "output_type": "stream",
     "text": [
      "Всего в Москве 1413 кофеен\n"
     ]
    }
   ],
   "source": [
    "print(f\"Всего в Москве {cof['name'].count()} кофеен\")"
   ]
  },
  {
   "cell_type": "code",
   "execution_count": 49,
   "metadata": {},
   "outputs": [
    {
     "data": {
      "text/html": [
       "<div>\n",
       "<style scoped>\n",
       "    .dataframe tbody tr th:only-of-type {\n",
       "        vertical-align: middle;\n",
       "    }\n",
       "\n",
       "    .dataframe tbody tr th {\n",
       "        vertical-align: top;\n",
       "    }\n",
       "\n",
       "    .dataframe thead th {\n",
       "        text-align: right;\n",
       "    }\n",
       "</style>\n",
       "<table border=\"1\" class=\"dataframe\">\n",
       "  <thead>\n",
       "    <tr style=\"text-align: right;\">\n",
       "      <th></th>\n",
       "      <th>district</th>\n",
       "      <th>count</th>\n",
       "    </tr>\n",
       "  </thead>\n",
       "  <tbody>\n",
       "    <tr>\n",
       "      <th>0</th>\n",
       "      <td>Центральный административный округ</td>\n",
       "      <td>428</td>\n",
       "    </tr>\n",
       "    <tr>\n",
       "      <th>1</th>\n",
       "      <td>Северный административный округ</td>\n",
       "      <td>193</td>\n",
       "    </tr>\n",
       "    <tr>\n",
       "      <th>2</th>\n",
       "      <td>Северо-Восточный административный округ</td>\n",
       "      <td>159</td>\n",
       "    </tr>\n",
       "    <tr>\n",
       "      <th>3</th>\n",
       "      <td>Западный административный округ</td>\n",
       "      <td>150</td>\n",
       "    </tr>\n",
       "    <tr>\n",
       "      <th>4</th>\n",
       "      <td>Южный административный округ</td>\n",
       "      <td>131</td>\n",
       "    </tr>\n",
       "    <tr>\n",
       "      <th>5</th>\n",
       "      <td>Восточный административный округ</td>\n",
       "      <td>105</td>\n",
       "    </tr>\n",
       "    <tr>\n",
       "      <th>6</th>\n",
       "      <td>Юго-Западный административный округ</td>\n",
       "      <td>96</td>\n",
       "    </tr>\n",
       "    <tr>\n",
       "      <th>7</th>\n",
       "      <td>Юго-Восточный административный округ</td>\n",
       "      <td>89</td>\n",
       "    </tr>\n",
       "    <tr>\n",
       "      <th>8</th>\n",
       "      <td>Северо-Западный административный округ</td>\n",
       "      <td>62</td>\n",
       "    </tr>\n",
       "  </tbody>\n",
       "</table>\n",
       "</div>"
      ],
      "text/plain": [
       "                                  district  count\n",
       "0       Центральный административный округ    428\n",
       "1          Северный административный округ    193\n",
       "2  Северо-Восточный административный округ    159\n",
       "3          Западный административный округ    150\n",
       "4             Южный административный округ    131\n",
       "5         Восточный административный округ    105\n",
       "6      Юго-Западный административный округ     96\n",
       "7     Юго-Восточный административный округ     89\n",
       "8   Северо-Западный административный округ     62"
      ]
     },
     "execution_count": 49,
     "metadata": {},
     "output_type": "execute_result"
    }
   ],
   "source": [
    "cof_dis_cnt = cof.groupby('district',as_index=False).agg({'address':'count'}).rename(columns={'address':'count'}).\\\n",
    "sort_values(by='count',ascending=False).reset_index(drop=True)\n",
    "cof_dis_cnt"
   ]
  },
  {
   "cell_type": "markdown",
   "metadata": {},
   "source": [
    "Больше всего кофейен в Центральном округе. В остальных конкуренция ниже, Северо-Западный округ развит совсем слабо."
   ]
  },
  {
   "cell_type": "code",
   "execution_count": 50,
   "metadata": {},
   "outputs": [
    {
     "data": {
      "text/html": [
       "<div>\n",
       "<style scoped>\n",
       "    .dataframe tbody tr th:only-of-type {\n",
       "        vertical-align: middle;\n",
       "    }\n",
       "\n",
       "    .dataframe tbody tr th {\n",
       "        vertical-align: top;\n",
       "    }\n",
       "\n",
       "    .dataframe thead th {\n",
       "        text-align: right;\n",
       "    }\n",
       "</style>\n",
       "<table border=\"1\" class=\"dataframe\">\n",
       "  <thead>\n",
       "    <tr style=\"text-align: right;\">\n",
       "      <th></th>\n",
       "      <th>district</th>\n",
       "      <th>rating</th>\n",
       "    </tr>\n",
       "  </thead>\n",
       "  <tbody>\n",
       "    <tr>\n",
       "      <th>0</th>\n",
       "      <td>Восточный административный округ</td>\n",
       "      <td>4.282857</td>\n",
       "    </tr>\n",
       "    <tr>\n",
       "      <th>1</th>\n",
       "      <td>Западный административный округ</td>\n",
       "      <td>4.195333</td>\n",
       "    </tr>\n",
       "    <tr>\n",
       "      <th>2</th>\n",
       "      <td>Северный административный округ</td>\n",
       "      <td>4.291710</td>\n",
       "    </tr>\n",
       "    <tr>\n",
       "      <th>3</th>\n",
       "      <td>Северо-Восточный административный округ</td>\n",
       "      <td>4.216981</td>\n",
       "    </tr>\n",
       "    <tr>\n",
       "      <th>4</th>\n",
       "      <td>Северо-Западный административный округ</td>\n",
       "      <td>4.325806</td>\n",
       "    </tr>\n",
       "    <tr>\n",
       "      <th>5</th>\n",
       "      <td>Центральный административный округ</td>\n",
       "      <td>4.336449</td>\n",
       "    </tr>\n",
       "    <tr>\n",
       "      <th>6</th>\n",
       "      <td>Юго-Восточный административный округ</td>\n",
       "      <td>4.225843</td>\n",
       "    </tr>\n",
       "    <tr>\n",
       "      <th>7</th>\n",
       "      <td>Юго-Западный административный округ</td>\n",
       "      <td>4.283333</td>\n",
       "    </tr>\n",
       "    <tr>\n",
       "      <th>8</th>\n",
       "      <td>Южный административный округ</td>\n",
       "      <td>4.232824</td>\n",
       "    </tr>\n",
       "  </tbody>\n",
       "</table>\n",
       "</div>"
      ],
      "text/plain": [
       "                                  district    rating\n",
       "0         Восточный административный округ  4.282857\n",
       "1          Западный административный округ  4.195333\n",
       "2          Северный административный округ  4.291710\n",
       "3  Северо-Восточный административный округ  4.216981\n",
       "4   Северо-Западный административный округ  4.325806\n",
       "5       Центральный административный округ  4.336449\n",
       "6     Юго-Восточный административный округ  4.225843\n",
       "7      Юго-Западный административный округ  4.283333\n",
       "8             Южный административный округ  4.232824"
      ]
     },
     "execution_count": 50,
     "metadata": {},
     "output_type": "execute_result"
    }
   ],
   "source": [
    "cof_dis_rat = cof.groupby('district',as_index=False).agg({'rating':'mean'})\n",
    "cof_dis_rat"
   ]
  },
  {
   "cell_type": "markdown",
   "metadata": {},
   "source": [
    "Оценки у кофеен стандартные и слабо варьирующиеся в зависимости от района."
   ]
  },
  {
   "cell_type": "markdown",
   "metadata": {},
   "source": [
    "Вычислим приблизительную цену чашки капучино, на которую имеет смысл ориентированиться:"
   ]
  },
  {
   "cell_type": "code",
   "execution_count": 51,
   "metadata": {},
   "outputs": [],
   "source": [
    "cost = cof[['middle_coffee_cup','price']].reset_index(drop=True)"
   ]
  },
  {
   "cell_type": "code",
   "execution_count": 52,
   "metadata": {},
   "outputs": [
    {
     "data": {
      "text/plain": [
       "175.0556621880998"
      ]
     },
     "execution_count": 52,
     "metadata": {},
     "output_type": "execute_result"
    }
   ],
   "source": [
    "cost['middle_coffee_cup'].mean()"
   ]
  },
  {
   "cell_type": "code",
   "execution_count": 53,
   "metadata": {},
   "outputs": [
    {
     "data": {
      "text/plain": [
       "170.0"
      ]
     },
     "execution_count": 53,
     "metadata": {},
     "output_type": "execute_result"
    }
   ],
   "source": [
    "cost['middle_coffee_cup'].median()"
   ]
  },
  {
   "cell_type": "markdown",
   "metadata": {},
   "source": [
    "Судя по всему, цена должна быть чуть больше 170 рублей."
   ]
  },
  {
   "cell_type": "code",
   "execution_count": 54,
   "metadata": {},
   "outputs": [
    {
     "data": {
      "text/html": [
       "<div>\n",
       "<style scoped>\n",
       "    .dataframe tbody tr th:only-of-type {\n",
       "        vertical-align: middle;\n",
       "    }\n",
       "\n",
       "    .dataframe tbody tr th {\n",
       "        vertical-align: top;\n",
       "    }\n",
       "\n",
       "    .dataframe thead th {\n",
       "        text-align: right;\n",
       "    }\n",
       "</style>\n",
       "<table border=\"1\" class=\"dataframe\">\n",
       "  <thead>\n",
       "    <tr style=\"text-align: right;\">\n",
       "      <th></th>\n",
       "      <th>price</th>\n",
       "      <th>count</th>\n",
       "    </tr>\n",
       "  </thead>\n",
       "  <tbody>\n",
       "    <tr>\n",
       "      <th>0</th>\n",
       "      <td>средние</td>\n",
       "      <td>377</td>\n",
       "    </tr>\n",
       "    <tr>\n",
       "      <th>1</th>\n",
       "      <td>низкие</td>\n",
       "      <td>68</td>\n",
       "    </tr>\n",
       "    <tr>\n",
       "      <th>2</th>\n",
       "      <td>высокие</td>\n",
       "      <td>17</td>\n",
       "    </tr>\n",
       "    <tr>\n",
       "      <th>3</th>\n",
       "      <td>выше среднего</td>\n",
       "      <td>14</td>\n",
       "    </tr>\n",
       "  </tbody>\n",
       "</table>\n",
       "</div>"
      ],
      "text/plain": [
       "           price  count\n",
       "0        средние    377\n",
       "1         низкие     68\n",
       "2        высокие     17\n",
       "3  выше среднего     14"
      ]
     },
     "execution_count": 54,
     "metadata": {},
     "output_type": "execute_result"
    }
   ],
   "source": [
    "cof_price = cof.groupby('price',as_index=False).agg({'name':'count'}).rename(columns={'name':'count'}).\\\n",
    "sort_values(by='count',ascending=False).reset_index(drop=True)\n",
    "cof_price"
   ]
  },
  {
   "cell_type": "markdown",
   "metadata": {},
   "source": [
    "Подавляюее большинство кофеен в городе относятся к средней ценовой категории. Кофеен выской категории и категории выше среднего совсем мало."
   ]
  },
  {
   "cell_type": "code",
   "execution_count": 55,
   "metadata": {},
   "outputs": [],
   "source": [
    "def cut_name(x):\n",
    "    box = str(x).split()\n",
    "    return box[0]"
   ]
  },
  {
   "cell_type": "code",
   "execution_count": 56,
   "metadata": {},
   "outputs": [
    {
     "data": {
      "image/png": "[encoded data removed]",
      "text/plain": [
       "<Figure size 1080x600 with 1 Axes>"
      ]
     },
     "metadata": {},
     "output_type": "display_data"
    }
   ],
   "source": [
    "fig, ax = plt.subplots(figsize=(9,5),dpi=120)\n",
    "sns.lineplot(x=cof_dis_cnt['district'],y=cof_dis_cnt['count'],color='#ffa600')\n",
    "ax.set_title('Количество кофеен по районам',fontsize=14)\n",
    "ax.set_xlabel(\"Район\",fontsize=12)\n",
    "ax.set_ylabel('Число кофеен',fontsize=12)\n",
    "ax.set_xticks(cof_dis_cnt['district'])\n",
    "ax.set_xticklabels(labels=cof_dis_cnt['district'].apply(cut_name),rotation=-30,fontsize=9)\n",
    "sns.despine()\n",
    "plt.show()"
   ]
  },
  {
   "cell_type": "code",
   "execution_count": 57,
   "metadata": {},
   "outputs": [
    {
     "data": {
      "image/png": "[encoded data removed]"
     },
     "metadata": {},
     "output_type": "display_data"
    }
   ],
   "source": [
    "fig = px.pie(values=cof_price['count'], names=cof_price['price'],\n",
    "             color_discrete_sequence=['#6e7f29','#e7b300','#c2b4a6','#635045'])\n",
    "fig.update_layout(width=600,height=450,title='Ценовые группы кофеен',template=\"plotly_dark\",font=dict(size=15))\n",
    "fig.show(\"png\")"
   ]
  },
  {
   "cell_type": "code",
   "execution_count": 58,
   "metadata": {},
   "outputs": [
    {
     "data": {
      "image/png": "[encoded data removed]",
      "text/plain": [
       "<Figure size 660x660 with 1 Axes>"
      ]
     },
     "metadata": {},
     "output_type": "display_data"
    }
   ],
   "source": [
    "fig, ax = plt.subplots(figsize=(6,6),dpi=110)\n",
    "sns.histplot(data=cost,x='middle_coffee_cup',hue='price',bins=30,palette=['#bedf3a','#ffcf33','#635045','#c2b4a6'])\n",
    "ax.set_title('Распределение цен на кофе',fontsize=14)\n",
    "ax.set_xlabel(\"Цена\",fontsize=12)\n",
    "ax.set_ylabel('Число кофеен',fontsize=12)\n",
    "ax.set_xlim(0,500)\n",
    "plt.show()"
   ]
  },
  {
   "cell_type": "markdown",
   "metadata": {},
   "source": [
    "К сожалению, информация о ценовой категории есть лишь о половине кофеен и распределена она не равномерно, поэтому делать какие-либо серьезные выводы по ней трудно. Однако некое общее представление получившийся график все же дает. В заведениях низкой категории цена в основном составляетот 100 до 170 рублей. В средних заведениях же она начинается от 170 и может достигать приблизительно 240."
   ]
  },
  {
   "cell_type": "markdown",
   "metadata": {},
   "source": [
    "### Резюме:"
   ]
  },
  {
   "cell_type": "markdown",
   "metadata": {},
   "source": [
    "Анализ рынка московских кофеен завершен, и теперь можно тезисно озвучить собранные рекомендации."
   ]
  },
  {
   "cell_type": "markdown",
   "metadata": {},
   "source": [
    "1) Конкурентное преимущество на рынке кофеен в Москве можно получить за счет занятия выгодного географического расположения и свободного ценового сегмента."
   ]
  },
  {
   "cell_type": "markdown",
   "metadata": {},
   "source": [
    "2) Как вариант, кофейню можно открыть в Северном или Северо-Восточном округе, чтобы иметь достаточно большую аудиторию, но при этом не сталкиваться с чрезмерной конкуренцией."
   ]
  },
  {
   "cell_type": "markdown",
   "metadata": {},
   "source": [
    "3) Позиционировать себя стоит как заведение категории \"выше среднего\" и цены устанавливать соответствующие. Чашку капучино в данном случае можно продавать по цене от 200 рублей и выше, однако сервис при этом должен поддерживаться на высоком уровне."
   ]
  },
  {
   "cell_type": "markdown",
   "metadata": {},
   "source": [
    "4) Хорошим ходом будет работать круглосуточно. Это создаст определенные издержки, однако закроет потребности большой прослойки потенциальных клиентов, которые сейчас не удовлетворяются."
   ]
  },
  {
   "cell_type": "markdown",
   "metadata": {},
   "source": [
    "5) Чтобы не отставать от конкурентов, в кофейне следует держать около 70 мест."
   ]
  },
  {
   "cell_type": "markdown",
   "metadata": {},
   "source": [
    "**Вывод:** при условии соблюдения вышеуказанных рекомендаций, стартап-кофейня вполне имеет право на жизни и может в перспективе принести создателям прибыль."
   ]
  }
 ],
 "metadata": {
  "ExecuteTimeLog": [
   {
    "duration": 1835,
    "start_time": "2022-11-17T14:30:00.197Z"
   },
   {
    "duration": 420,
    "start_time": "2022-11-17T14:30:07.337Z"
   },
   {
    "duration": 14,
    "start_time": "2022-11-17T14:30:27.408Z"
   },
   {
    "duration": 3,
    "start_time": "2022-11-17T14:30:34.199Z"
   },
   {
    "duration": 10389,
    "start_time": "2022-11-17T14:30:39.424Z"
   },
   {
    "duration": 164,
    "start_time": "2022-11-17T14:31:02.260Z"
   },
   {
    "duration": 53,
    "start_time": "2022-11-17T14:31:09.609Z"
   },
   {
    "duration": 108,
    "start_time": "2022-11-17T14:34:00.922Z"
   },
   {
    "duration": 53,
    "start_time": "2022-11-17T14:34:23.820Z"
   },
   {
    "duration": 10278,
    "start_time": "2022-11-17T14:34:49.318Z"
   },
   {
    "duration": 5,
    "start_time": "2022-11-17T18:55:58.743Z"
   },
   {
    "duration": 173,
    "start_time": "2022-11-17T18:56:17.006Z"
   },
   {
    "duration": 25,
    "start_time": "2022-11-17T18:56:29.906Z"
   },
   {
    "duration": 17,
    "start_time": "2022-11-17T18:56:39.378Z"
   },
   {
    "duration": 5,
    "start_time": "2022-11-17T18:56:42.368Z"
   },
   {
    "duration": 9,
    "start_time": "2022-11-17T18:56:44.835Z"
   },
   {
    "duration": 5,
    "start_time": "2022-11-17T18:56:59.931Z"
   },
   {
    "duration": 6,
    "start_time": "2022-11-17T18:57:03.795Z"
   },
   {
    "duration": 5,
    "start_time": "2022-11-17T18:57:07.778Z"
   },
   {
    "duration": 4,
    "start_time": "2022-11-17T18:57:10.953Z"
   },
   {
    "duration": 4,
    "start_time": "2022-11-17T18:57:15.407Z"
   },
   {
    "duration": 5,
    "start_time": "2022-11-17T18:57:19.558Z"
   },
   {
    "duration": 5,
    "start_time": "2022-11-17T18:57:23.611Z"
   },
   {
    "duration": 3,
    "start_time": "2022-11-17T18:57:32.405Z"
   },
   {
    "duration": 8,
    "start_time": "2022-11-17T18:57:39.802Z"
   },
   {
    "duration": 26,
    "start_time": "2022-11-17T18:57:44.408Z"
   },
   {
    "duration": 2,
    "start_time": "2022-11-17T18:57:54.321Z"
   },
   {
    "duration": 6,
    "start_time": "2022-11-17T18:57:58.062Z"
   },
   {
    "duration": 17,
    "start_time": "2022-11-17T18:58:00.961Z"
   },
   {
    "duration": 13,
    "start_time": "2022-11-17T18:58:28.223Z"
   },
   {
    "duration": 5,
    "start_time": "2022-11-17T18:58:33.826Z"
   },
   {
    "duration": 195,
    "start_time": "2022-11-17T18:58:38.375Z"
   },
   {
    "duration": 15,
    "start_time": "2022-11-17T18:59:13.117Z"
   },
   {
    "duration": 9,
    "start_time": "2022-11-17T18:59:17.243Z"
   },
   {
    "duration": 4,
    "start_time": "2022-11-17T18:59:28.594Z"
   },
   {
    "duration": 324,
    "start_time": "2022-11-17T18:59:32.529Z"
   },
   {
    "duration": 4,
    "start_time": "2022-11-17T18:59:53.613Z"
   },
   {
    "duration": 3,
    "start_time": "2022-11-17T19:00:11.077Z"
   },
   {
    "duration": 46,
    "start_time": "2022-11-17T19:00:16.562Z"
   },
   {
    "duration": 4,
    "start_time": "2022-11-17T19:00:22.328Z"
   },
   {
    "duration": 326,
    "start_time": "2022-11-17T19:00:26.995Z"
   },
   {
    "duration": 17,
    "start_time": "2022-11-17T19:00:45.940Z"
   },
   {
    "duration": 4,
    "start_time": "2022-11-17T19:00:52.489Z"
   },
   {
    "duration": 421,
    "start_time": "2022-11-17T19:00:56.662Z"
   },
   {
    "duration": 18,
    "start_time": "2022-11-17T19:01:19.898Z"
   },
   {
    "duration": 126,
    "start_time": "2022-11-17T19:01:24.469Z"
   },
   {
    "duration": 11,
    "start_time": "2022-11-17T19:01:41.110Z"
   },
   {
    "duration": 200,
    "start_time": "2022-11-17T19:01:48.302Z"
   },
   {
    "duration": 12,
    "start_time": "2022-11-17T19:02:05.257Z"
   },
   {
    "duration": 3,
    "start_time": "2022-11-17T19:02:10.590Z"
   },
   {
    "duration": 877,
    "start_time": "2022-11-17T19:02:15.049Z"
   },
   {
    "duration": 125,
    "start_time": "2022-11-17T19:02:32.769Z"
   },
   {
    "duration": 118,
    "start_time": "2022-11-17T19:03:38.789Z"
   },
   {
    "duration": 57,
    "start_time": "2022-11-17T19:04:05.478Z"
   },
   {
    "duration": 84,
    "start_time": "2022-11-17T19:04:25.399Z"
   },
   {
    "duration": 10260,
    "start_time": "2022-11-17T19:04:32.100Z"
   },
   {
    "duration": 32,
    "start_time": "2022-11-17T19:07:15.337Z"
   },
   {
    "duration": 13,
    "start_time": "2022-11-17T19:07:20.234Z"
   },
   {
    "duration": 86,
    "start_time": "2022-11-17T19:07:25.173Z"
   },
   {
    "duration": 13,
    "start_time": "2022-11-17T19:07:39.205Z"
   },
   {
    "duration": 5,
    "start_time": "2022-11-17T19:07:43.001Z"
   },
   {
    "duration": 17,
    "start_time": "2022-11-17T19:07:56.969Z"
   },
   {
    "duration": 14,
    "start_time": "2022-11-17T19:08:00.364Z"
   },
   {
    "duration": 157,
    "start_time": "2022-11-17T19:08:11.423Z"
   },
   {
    "duration": 7,
    "start_time": "2022-11-17T19:10:52.801Z"
   },
   {
    "duration": 4,
    "start_time": "2022-11-17T19:10:56.459Z"
   },
   {
    "duration": 13,
    "start_time": "2022-11-17T19:11:00.505Z"
   },
   {
    "duration": 13,
    "start_time": "2022-11-17T19:11:09.974Z"
   },
   {
    "duration": 4,
    "start_time": "2022-11-17T19:11:25.113Z"
   },
   {
    "duration": 5,
    "start_time": "2022-11-17T19:11:27.750Z"
   },
   {
    "duration": 5,
    "start_time": "2022-11-17T19:11:33.197Z"
   },
   {
    "duration": 12,
    "start_time": "2022-11-17T19:11:41.933Z"
   },
   {
    "duration": 3,
    "start_time": "2022-11-17T19:11:50.665Z"
   },
   {
    "duration": 233,
    "start_time": "2022-11-17T19:11:54.462Z"
   },
   {
    "duration": 53,
    "start_time": "2022-11-17T19:11:59.419Z"
   },
   {
    "duration": 447,
    "start_time": "2022-11-17T19:12:04.504Z"
   },
   {
    "duration": 10220,
    "start_time": "2022-11-17T19:14:58.061Z"
   },
   {
    "duration": 635,
    "start_time": "2022-11-17T19:15:21.849Z"
   },
   {
    "duration": 9861,
    "start_time": "2022-11-17T19:15:24.945Z"
   },
   {
    "duration": 594,
    "start_time": "2022-11-17T19:15:45.745Z"
   },
   {
    "duration": 9635,
    "start_time": "2022-11-17T19:15:48.118Z"
   },
   {
    "duration": 621,
    "start_time": "2022-11-17T19:16:12.677Z"
   },
   {
    "duration": 9764,
    "start_time": "2022-11-17T19:16:14.614Z"
   },
   {
    "duration": 667,
    "start_time": "2022-11-17T19:16:42.541Z"
   },
   {
    "duration": 9918,
    "start_time": "2022-11-17T19:16:44.235Z"
   },
   {
    "duration": 229,
    "start_time": "2022-11-17T19:18:52.225Z"
   },
   {
    "duration": 1606,
    "start_time": "2022-11-18T07:08:38.356Z"
   },
   {
    "duration": 242,
    "start_time": "2022-11-18T07:08:39.964Z"
   },
   {
    "duration": 13,
    "start_time": "2022-11-18T07:08:40.208Z"
   },
   {
    "duration": 29,
    "start_time": "2022-11-18T07:08:40.223Z"
   },
   {
    "duration": 5,
    "start_time": "2022-11-18T07:08:40.254Z"
   },
   {
    "duration": 10,
    "start_time": "2022-11-18T07:08:40.261Z"
   },
   {
    "duration": 8,
    "start_time": "2022-11-18T07:08:40.273Z"
   },
   {
    "duration": 6,
    "start_time": "2022-11-18T07:08:40.283Z"
   },
   {
    "duration": 8,
    "start_time": "2022-11-18T07:08:40.291Z"
   },
   {
    "duration": 14,
    "start_time": "2022-11-18T07:08:40.303Z"
   },
   {
    "duration": 8,
    "start_time": "2022-11-18T07:08:40.318Z"
   },
   {
    "duration": 25,
    "start_time": "2022-11-18T07:08:40.328Z"
   },
   {
    "duration": 4,
    "start_time": "2022-11-18T07:08:40.355Z"
   },
   {
    "duration": 10,
    "start_time": "2022-11-18T07:08:40.361Z"
   },
   {
    "duration": 12,
    "start_time": "2022-11-18T07:08:40.373Z"
   },
   {
    "duration": 21,
    "start_time": "2022-11-18T07:08:40.387Z"
   },
   {
    "duration": 3,
    "start_time": "2022-11-18T07:08:40.409Z"
   },
   {
    "duration": 13,
    "start_time": "2022-11-18T07:08:40.413Z"
   },
   {
    "duration": 32,
    "start_time": "2022-11-18T07:08:40.427Z"
   },
   {
    "duration": 11,
    "start_time": "2022-11-18T07:08:40.461Z"
   },
   {
    "duration": 5,
    "start_time": "2022-11-18T07:08:40.474Z"
   },
   {
    "duration": 211,
    "start_time": "2022-11-18T07:08:40.481Z"
   },
   {
    "duration": 13,
    "start_time": "2022-11-18T07:08:40.693Z"
   },
   {
    "duration": 19,
    "start_time": "2022-11-18T07:08:40.708Z"
   },
   {
    "duration": 6,
    "start_time": "2022-11-18T07:08:40.728Z"
   },
   {
    "duration": 295,
    "start_time": "2022-11-18T07:08:40.736Z"
   },
   {
    "duration": 4,
    "start_time": "2022-11-18T07:08:41.032Z"
   },
   {
    "duration": 6,
    "start_time": "2022-11-18T07:08:41.051Z"
   },
   {
    "duration": 107,
    "start_time": "2022-11-18T07:08:41.058Z"
   },
   {
    "duration": 3,
    "start_time": "2022-11-18T07:08:41.167Z"
   },
   {
    "duration": 311,
    "start_time": "2022-11-18T07:08:41.171Z"
   },
   {
    "duration": 20,
    "start_time": "2022-11-18T07:08:41.484Z"
   },
   {
    "duration": 5,
    "start_time": "2022-11-18T07:08:41.506Z"
   },
   {
    "duration": 603,
    "start_time": "2022-11-18T07:08:41.513Z"
   },
   {
    "duration": 16,
    "start_time": "2022-11-18T07:08:42.118Z"
   },
   {
    "duration": 125,
    "start_time": "2022-11-18T07:08:42.136Z"
   },
   {
    "duration": 11,
    "start_time": "2022-11-18T07:08:42.262Z"
   },
   {
    "duration": 217,
    "start_time": "2022-11-18T07:08:42.275Z"
   },
   {
    "duration": 13,
    "start_time": "2022-11-18T07:08:42.494Z"
   },
   {
    "duration": 3,
    "start_time": "2022-11-18T07:08:42.510Z"
   },
   {
    "duration": 782,
    "start_time": "2022-11-18T07:08:42.515Z"
   },
   {
    "duration": 8640,
    "start_time": "2022-11-18T07:08:43.298Z"
   },
   {
    "duration": 31,
    "start_time": "2022-11-18T07:08:51.941Z"
   },
   {
    "duration": 9,
    "start_time": "2022-11-18T07:08:51.974Z"
   },
   {
    "duration": 187,
    "start_time": "2022-11-18T07:08:51.985Z"
   },
   {
    "duration": 13,
    "start_time": "2022-11-18T07:08:52.173Z"
   },
   {
    "duration": 3,
    "start_time": "2022-11-18T07:08:52.188Z"
   },
   {
    "duration": 80,
    "start_time": "2022-11-18T07:08:52.193Z"
   },
   {
    "duration": 14,
    "start_time": "2022-11-18T07:08:52.274Z"
   },
   {
    "duration": 199,
    "start_time": "2022-11-18T07:08:52.290Z"
   },
   {
    "duration": 7,
    "start_time": "2022-11-18T07:08:52.491Z"
   },
   {
    "duration": 14,
    "start_time": "2022-11-18T07:08:52.500Z"
   },
   {
    "duration": 37,
    "start_time": "2022-11-18T07:08:52.517Z"
   },
   {
    "duration": 13,
    "start_time": "2022-11-18T07:08:52.556Z"
   },
   {
    "duration": 12,
    "start_time": "2022-11-18T07:08:52.571Z"
   },
   {
    "duration": 38,
    "start_time": "2022-11-18T07:08:52.585Z"
   },
   {
    "duration": 16,
    "start_time": "2022-11-18T07:08:52.625Z"
   },
   {
    "duration": 18,
    "start_time": "2022-11-18T07:08:52.643Z"
   },
   {
    "duration": 5,
    "start_time": "2022-11-18T07:08:52.663Z"
   },
   {
    "duration": 369,
    "start_time": "2022-11-18T07:08:52.670Z"
   },
   {
    "duration": 52,
    "start_time": "2022-11-18T07:08:53.040Z"
   },
   {
    "duration": 398,
    "start_time": "2022-11-18T07:08:53.094Z"
   },
   {
    "duration": 1631,
    "start_time": "2022-11-18T18:50:24.327Z"
   },
   {
    "duration": 210,
    "start_time": "2022-11-18T18:50:25.960Z"
   },
   {
    "duration": 14,
    "start_time": "2022-11-18T18:50:26.171Z"
   },
   {
    "duration": 69,
    "start_time": "2022-11-18T18:50:26.187Z"
   },
   {
    "duration": 6,
    "start_time": "2022-11-18T18:50:26.258Z"
   },
   {
    "duration": 14,
    "start_time": "2022-11-18T18:50:26.265Z"
   },
   {
    "duration": 6,
    "start_time": "2022-11-18T18:50:26.281Z"
   },
   {
    "duration": 8,
    "start_time": "2022-11-18T18:50:26.289Z"
   },
   {
    "duration": 54,
    "start_time": "2022-11-18T18:50:26.299Z"
   },
   {
    "duration": 5,
    "start_time": "2022-11-18T18:50:26.355Z"
   },
   {
    "duration": 6,
    "start_time": "2022-11-18T18:50:26.361Z"
   },
   {
    "duration": 8,
    "start_time": "2022-11-18T18:50:26.369Z"
   },
   {
    "duration": 5,
    "start_time": "2022-11-18T18:50:26.379Z"
   },
   {
    "duration": 3,
    "start_time": "2022-11-18T18:50:26.387Z"
   },
   {
    "duration": 60,
    "start_time": "2022-11-18T18:50:26.392Z"
   },
   {
    "duration": 18,
    "start_time": "2022-11-18T18:50:26.454Z"
   },
   {
    "duration": 2,
    "start_time": "2022-11-18T18:50:26.474Z"
   },
   {
    "duration": 9,
    "start_time": "2022-11-18T18:50:26.478Z"
   },
   {
    "duration": 68,
    "start_time": "2022-11-18T18:50:26.488Z"
   },
   {
    "duration": 26,
    "start_time": "2022-11-18T18:50:26.557Z"
   },
   {
    "duration": 4,
    "start_time": "2022-11-18T18:50:26.585Z"
   },
   {
    "duration": 378,
    "start_time": "2022-11-18T18:50:26.590Z"
   },
   {
    "duration": 12,
    "start_time": "2022-11-18T18:50:26.969Z"
   },
   {
    "duration": 8,
    "start_time": "2022-11-18T18:50:26.983Z"
   },
   {
    "duration": 60,
    "start_time": "2022-11-18T18:50:26.993Z"
   },
   {
    "duration": 532,
    "start_time": "2022-11-18T18:50:27.055Z"
   },
   {
    "duration": 3,
    "start_time": "2022-11-18T18:50:27.589Z"
   },
   {
    "duration": 6,
    "start_time": "2022-11-18T18:50:27.594Z"
   },
   {
    "duration": 166,
    "start_time": "2022-11-18T18:50:27.602Z"
   },
   {
    "duration": 4,
    "start_time": "2022-11-18T18:50:27.770Z"
   },
   {
    "duration": 297,
    "start_time": "2022-11-18T18:50:27.776Z"
   },
   {
    "duration": 15,
    "start_time": "2022-11-18T18:50:28.075Z"
   },
   {
    "duration": 4,
    "start_time": "2022-11-18T18:50:28.091Z"
   },
   {
    "duration": 509,
    "start_time": "2022-11-18T18:50:28.097Z"
   },
   {
    "duration": 15,
    "start_time": "2022-11-18T18:50:28.608Z"
   },
   {
    "duration": 156,
    "start_time": "2022-11-18T18:50:28.625Z"
   },
   {
    "duration": 11,
    "start_time": "2022-11-18T18:50:28.782Z"
   },
   {
    "duration": 197,
    "start_time": "2022-11-18T18:50:28.794Z"
   },
   {
    "duration": 11,
    "start_time": "2022-11-18T18:50:28.993Z"
   },
   {
    "duration": 3,
    "start_time": "2022-11-18T18:50:29.006Z"
   },
   {
    "duration": 734,
    "start_time": "2022-11-18T18:50:29.012Z"
   },
   {
    "duration": 8379,
    "start_time": "2022-11-18T18:50:29.748Z"
   },
   {
    "duration": 38,
    "start_time": "2022-11-18T18:50:38.130Z"
   },
   {
    "duration": 8,
    "start_time": "2022-11-18T18:50:38.169Z"
   },
   {
    "duration": 196,
    "start_time": "2022-11-18T18:50:38.179Z"
   },
   {
    "duration": 13,
    "start_time": "2022-11-18T18:50:38.376Z"
   },
   {
    "duration": 4,
    "start_time": "2022-11-18T18:50:38.391Z"
   },
   {
    "duration": 59,
    "start_time": "2022-11-18T18:50:38.397Z"
   },
   {
    "duration": 13,
    "start_time": "2022-11-18T18:50:38.457Z"
   },
   {
    "duration": 130,
    "start_time": "2022-11-18T18:50:38.471Z"
   },
   {
    "duration": 5,
    "start_time": "2022-11-18T18:50:38.603Z"
   },
   {
    "duration": 6,
    "start_time": "2022-11-18T18:50:38.610Z"
   },
   {
    "duration": 14,
    "start_time": "2022-11-18T18:50:38.618Z"
   },
   {
    "duration": 28,
    "start_time": "2022-11-18T18:50:38.633Z"
   },
   {
    "duration": 3,
    "start_time": "2022-11-18T18:50:38.663Z"
   },
   {
    "duration": 8,
    "start_time": "2022-11-18T18:50:38.667Z"
   },
   {
    "duration": 7,
    "start_time": "2022-11-18T18:50:38.676Z"
   },
   {
    "duration": 12,
    "start_time": "2022-11-18T18:50:38.684Z"
   },
   {
    "duration": 6,
    "start_time": "2022-11-18T18:50:38.697Z"
   },
   {
    "duration": 409,
    "start_time": "2022-11-18T18:50:38.704Z"
   },
   {
    "duration": 59,
    "start_time": "2022-11-18T18:50:39.114Z"
   },
   {
    "duration": 390,
    "start_time": "2022-11-18T18:50:39.175Z"
   },
   {
    "duration": 151,
    "start_time": "2022-11-18T18:51:37.641Z"
   },
   {
    "duration": 19,
    "start_time": "2022-11-18T18:51:42.759Z"
   }
  ],
  "kernelspec": {
   "display_name": "Python 3 (ipykernel)",
   "language": "python",
   "name": "python3"
  },
  "language_info": {
   "codemirror_mode": {
    "name": "ipython",
    "version": 3
   },
   "file_extension": ".py",
   "mimetype": "text/x-python",
   "name": "python",
   "nbconvert_exporter": "python",
   "pygments_lexer": "ipython3",
   "version": "3.9.7"
  },
  "toc": {
   "base_numbering": 1,
   "nav_menu": {},
   "number_sections": true,
   "sideBar": true,
   "skip_h1_title": true,
   "title_cell": "Table of Contents",
   "title_sidebar": "Contents",
   "toc_cell": false,
   "toc_position": {},
   "toc_section_display": true,
   "toc_window_display": true
  }
 },
 "nbformat": 4,
 "nbformat_minor": 2
}
