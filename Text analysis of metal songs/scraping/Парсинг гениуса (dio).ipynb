{
 "cells": [
  {
   "cell_type": "code",
   "execution_count": 1,
   "id": "00433c1e",
   "metadata": {},
   "outputs": [],
   "source": [
    "import requests\n",
    "from bs4 import BeautifulSoup\n",
    "import lxml\n",
    "from time import sleep\n",
    "import re"
   ]
  },
  {
   "cell_type": "code",
   "execution_count": 21,
   "id": "ffc9089e",
   "metadata": {},
   "outputs": [],
   "source": [
    "alb_list = ['Master Of The Moon','Killing The Dragon','Magica','Angry Machines','Strange Highways',\n",
    "            'Lock Up The Wolves','Dream Evil','Sacred Heart','The Last In Line','Holy Diver']\n",
    "songs_list = []"
   ]
  },
  {
   "cell_type": "code",
   "execution_count": 22,
   "id": "7fb112fb",
   "metadata": {},
   "outputs": [
    {
     "name": "stdout",
     "output_type": "stream",
     "text": [
      "done\n"
     ]
    }
   ],
   "source": [
    "headers =  {\"User-Agent\": \"Mozilla/5.0 (Windows NT 10.0; Win64; x64) AppleWebKit/789.36 (KHTML, like Gecko) Chrome/101.0.0.0 Safari/532.36\"}\n",
    "lines = []\n",
    "for alb in alb_list:\n",
    "    sleep(2)\n",
    "    al = alb\n",
    "    al_rest = al[1:].lower().split(' ')\n",
    "    al_fin = al[0] + '-'.join(al_rest)\n",
    "    url = f'https://genius.com/albums/Dio/{al_fin}'\n",
    "    response = requests.get(url, headers=headers)\n",
    "    soup = BeautifulSoup(response.text, 'lxml')\n",
    "    tbox = soup.find_all('h3',class_=\"chart_row-content-title\") \n",
    "    for i in tbox:\n",
    "        it = i.text.replace('\\n','').replace('Lyrics','').strip().lower().split(' ')\n",
    "        it = '-'.join(it)\n",
    "        it = it.replace(',','').replace('(','').replace(')','').replace('’','')\n",
    "        songs_list.append(it)\n",
    "print('done')\n",
    "\n"
   ]
  },
  {
   "cell_type": "code",
   "execution_count": 26,
   "id": "5acbfc25",
   "metadata": {},
   "outputs": [
    {
     "data": {
      "text/plain": [
       "116"
      ]
     },
     "execution_count": 26,
     "metadata": {},
     "output_type": "execute_result"
    }
   ],
   "source": [
    "len(songs_list)"
   ]
  },
  {
   "cell_type": "code",
   "execution_count": 25,
   "id": "195dbc24",
   "metadata": {},
   "outputs": [
    {
     "name": "stdout",
     "output_type": "stream",
     "text": [
      "one-more-for-the-road\n",
      "master-of-the-moon\n",
      "the-end-of-the-world\n",
      "shivers\n",
      "the-man-who-would-be-king\n",
      "the-eyes\n",
      "living-the-lie\n",
      "i-am\n",
      "death-by-love\n",
      "in-dreams\n",
      "the-prisoner-of-paradise\n",
      "killing-the-dragon\n",
      "along-comes-a-spider\n",
      "scream\n",
      "better-in-the-dark\n",
      "rock-&-roll\n",
      "push\n",
      "guilty\n",
      "throw-away-children\n",
      "before-the-fall\n",
      "cold-feet\n",
      "discovery\n",
      "magica-theme\n",
      "lord-of-the-last-day\n",
      "fever-dreams\n",
      "turn-to-stone\n",
      "feed-my-head\n",
      "eriel\n",
      "challis\n",
      "as-long-as-it's-not-about-love\n",
      "losing-my-insanity\n",
      "otherworld\n",
      "magica-(reprise)\n",
      "lord-of-the-last-day-(reprise)\n",
      "the-magica-story\n",
      "feed-my-head-(live)\n",
      "electra\n",
      "institutional-man\n",
      "don't-tell-the-kids\n",
      "black\n",
      "hunter-of-the-heart\n",
      "stay-out-of-my-mind\n",
      "big-sister\n",
      "double-monday\n",
      "golden-rules\n",
      "dying-in-america\n",
      "this-is-your-life\n",
      "god-hates-heavy-metal\n",
      "jesus,-mary-&-the-holy-ghost\n",
      "firehead\n",
      "strange-highways\n",
      "hollywood-black\n",
      "evilution\n",
      "pain\n",
      "one-foot-in-the-grave\n",
      "give-her-the-gun\n",
      "blood-from-a-stone\n",
      "here's-to-you\n",
      "bring-down-the-rain\n",
      "wild-one\n",
      "born-on-the-sun\n",
      "hey-angel\n",
      "between-two-hearts\n",
      "night-music\n",
      "lock-up-the-wolves\n",
      "evil-on-queen-street\n",
      "walk-on-water\n",
      "twisted\n",
      "why-are-they-watching-me\n",
      "my-eyes\n",
      "night-people\n",
      "dream-evil\n",
      "sunset-superman\n",
      "all-the-fools-sailed-away\n",
      "naked-in-the-rain\n",
      "overlove\n",
      "i-could-have-been-a-dreamer\n",
      "faces-in-the-window\n",
      "when-a-woman-cries\n",
      "hide-in-the-rainbow\n",
      "neon-knights\n",
      "rock-'n'-roll-children\n",
      "long-live-rock-'n'-roll\n",
      "the-last-in-line\n",
      "children-of-the-sea\n",
      "holy-diver\n",
      "heaven-and-hell\n",
      "man-on-the-silver-mountain\n",
      "rainbow-in-the-dark\n",
      "king-of-rock-and-roll\n",
      "sacred-heart\n",
      "another-lie\n",
      "rock-'n'-roll-children\n",
      "hungry-for-heaven\n",
      "like-the-beat-of-a-heart\n",
      "just-another-day\n",
      "fallen-angels\n",
      "shoot-shoot\n",
      "we-rock\n",
      "the-last-in-line\n",
      "breathless\n",
      "i-speed-at-night\n",
      "one-night-in-the-city\n",
      "evil-eyes\n",
      "mystery\n",
      "eat-your-heart-out\n",
      "egypt-(the-chains-are-on)\n",
      "stand-up-and-shout\n",
      "holy-diver\n",
      "gypsy\n",
      "caught-in-the-middle\n",
      "don't-talk-to-strangers\n",
      "straight-through-the-heart\n",
      "invisible\n",
      "rainbow-in-the-dark\n",
      "shame-on-the-night\n",
      "list done\n",
      "File done\n"
     ]
    }
   ],
   "source": [
    "headers =  {\"User-Agent\": \"Mozilla/5.0 (Windows NT 10.0; Win64; x64) AppleWebKit/789.36 (KHTML, like Gecko) Chrome/101.0.0.0 Safari/532.36\"}\n",
    "lines = []\n",
    "for n in songs_list:\n",
    "    try:\n",
    "        sleep(1)\n",
    "        url = f'https://genius.com/Dio-{n}-lyrics'\n",
    "        response = requests.get(url, headers=headers)\n",
    "        soup = BeautifulSoup(response.text, 'lxml')\n",
    "        tbox = soup.find_all('div',class_=\"Lyrics__Container-sc-1ynbvzw-6 YYrds\") \n",
    "        for t in tbox:\n",
    "            for i in t.contents:\n",
    "                it = i.text\n",
    "                if it != '' and ('[' not in it or ']' not in it): \n",
    "                    result = it[0]\n",
    "                    for letter in it[1:]:\n",
    "                        if letter.isupper():\n",
    "                             result += f' {letter}'\n",
    "                        else:\n",
    "                            result += letter\n",
    "                    lines.append(result) \n",
    "    except:\n",
    "        pass\n",
    "    print(n)\n",
    "print('list done')\n",
    "with open(r\"dio_texts.txt\", \"w\",encoding=\"utf-8\") as file:\n",
    "    for  line in lines:\n",
    "        file.write(line + '\\n')  \n",
    "print('File done')"
   ]
  },
  {
   "cell_type": "code",
   "execution_count": null,
   "id": "8b4d250d",
   "metadata": {},
   "outputs": [],
   "source": []
  }
 ],
 "metadata": {
  "kernelspec": {
   "display_name": "Python 3 (ipykernel)",
   "language": "python",
   "name": "python3"
  },
  "language_info": {
   "codemirror_mode": {
    "name": "ipython",
    "version": 3
   },
   "file_extension": ".py",
   "mimetype": "text/x-python",
   "name": "python",
   "nbconvert_exporter": "python",
   "pygments_lexer": "ipython3",
   "version": "3.9.7"
  }
 },
 "nbformat": 4,
 "nbformat_minor": 5
}
