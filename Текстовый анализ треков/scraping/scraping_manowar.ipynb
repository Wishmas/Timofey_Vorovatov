{
 "cells": [
  {
   "cell_type": "code",
   "execution_count": 1,
   "id": "00433c1e",
   "metadata": {},
   "outputs": [],
   "source": [
    "import requests\n",
    "from bs4 import BeautifulSoup\n",
    "import lxml\n",
    "from time import sleep\n",
    "import re"
   ]
  },
  {
   "cell_type": "code",
   "execution_count": 12,
   "id": "ffc9089e",
   "metadata": {},
   "outputs": [],
   "source": [
    "alb_list = ['Battle Hymns','Into Glory Ride','Hail To England','Sign Of The Hammer','Fighting The World','Kings Of Metal',\n",
    "           'The Triumph Of Steel','Louder Than Hell','Warriors Of The World','Gods Of War','Battle Hymns MMXI']\n",
    "songs_list = []"
   ]
  },
  {
   "cell_type": "code",
   "execution_count": 13,
   "id": "7fb112fb",
   "metadata": {},
   "outputs": [
    {
     "name": "stdout",
     "output_type": "stream",
     "text": [
      "done\n"
     ]
    }
   ],
   "source": [
    "headers =  {\"User-Agent\": \"Mozilla/4.0 (Windows NT 7.0; Win64; x64) AppleWebKit/987.32 (KHTML, like Gecko) Chrome/103.0.0.0 Safari/535.38\"}\n",
    "lines = []\n",
    "for alb in alb_list:\n",
    "    sleep(2)\n",
    "    al = alb\n",
    "    al_rest = al[1:].lower().replace(\"’\",' ').split(' ')\n",
    "    al_fin = al[0] + '-'.join(al_rest)\n",
    "    url = f'https://genius.com/albums/Manowar/{al_fin}'\n",
    "    response = requests.get(url, headers=headers)\n",
    "    soup = BeautifulSoup(response.text, 'lxml')\n",
    "    tbox = soup.find_all('h3',class_=\"chart_row-content-title\") \n",
    "    for i in tbox:\n",
    "        it = i.text.replace('\\n','').replace('Lyrics','').strip().lower().split(' ')\n",
    "        it = '-'.join(it)\n",
    "        it = it.replace(',','').replace('(','').replace(')','').replace(\"'\",'')\n",
    "        songs_list.append(it)\n",
    "print('done')"
   ]
  },
  {
   "cell_type": "code",
   "execution_count": 15,
   "id": "7eeb3e5a",
   "metadata": {},
   "outputs": [
    {
     "data": {
      "text/plain": [
       "101"
      ]
     },
     "execution_count": 15,
     "metadata": {},
     "output_type": "execute_result"
    }
   ],
   "source": [
    "len(songs_list)"
   ]
  },
  {
   "cell_type": "code",
   "execution_count": null,
   "id": "195dbc24",
   "metadata": {},
   "outputs": [],
   "source": [
    "headers =  {\"User-Agent\": \"Mozilla/5.0 (Windows NT 10.0; Win64; x64) AppleWebKit/789.36 (KHTML, like Gecko) Chrome/101.0.0.0 Safari/532.36\"}\n",
    "lines = []\n",
    "for n in songs_list:\n",
    "    try:\n",
    "        sleep(1)\n",
    "        url = f'https://genius.com/Manowar-{n}-lyrics'\n",
    "        response = requests.get(url, headers=headers)\n",
    "        soup = BeautifulSoup(response.text, 'lxml')\n",
    "        tbox = soup.find_all('div',class_=\"Lyrics__Container-sc-1ynbvzw-6 YYrds\") \n",
    "        for t in tbox:\n",
    "            for i in t.contents:\n",
    "                it = i.text\n",
    "                if it != '' and ('[' not in it or ']' not in it): \n",
    "                    result = it[0]\n",
    "                    for letter in it[1:]:\n",
    "                        if letter.isupper():\n",
    "                             result += f' {letter}'\n",
    "                        else:\n",
    "                            result += letter\n",
    "                    lines.append(result) \n",
    "    except:\n",
    "        pass\n",
    "    print(n)\n",
    "print('list done')\n",
    "with open(r\"manowar_texts.txt\", \"w\",encoding=\"utf-8\") as file:\n",
    "    for  line in lines:\n",
    "        file.write(line + '\\n')  \n",
    "print('File done')"
   ]
  },
  {
   "cell_type": "code",
   "execution_count": null,
   "id": "3e843ec8",
   "metadata": {},
   "outputs": [],
   "source": []
  }
 ],
 "metadata": {
  "kernelspec": {
   "display_name": "Python 3 (ipykernel)",
   "language": "python",
   "name": "python3"
  },
  "language_info": {
   "codemirror_mode": {
    "name": "ipython",
    "version": 3
   },
   "file_extension": ".py",
   "mimetype": "text/x-python",
   "name": "python",
   "nbconvert_exporter": "python",
   "pygments_lexer": "ipython3",
   "version": "3.9.7"
  }
 },
 "nbformat": 4,
 "nbformat_minor": 5
}
