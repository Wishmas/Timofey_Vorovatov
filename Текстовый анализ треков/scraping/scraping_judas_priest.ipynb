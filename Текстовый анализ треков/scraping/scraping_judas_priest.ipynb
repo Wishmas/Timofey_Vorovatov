{
 "cells": [
  {
   "cell_type": "code",
   "execution_count": 1,
   "id": "6361e3da",
   "metadata": {},
   "outputs": [],
   "source": [
    "import requests\n",
    "from bs4 import BeautifulSoup\n",
    "import lxml\n",
    "from time import sleep\n",
    "import re"
   ]
  },
  {
   "cell_type": "code",
   "execution_count": 2,
   "id": "66af1340",
   "metadata": {},
   "outputs": [
    {
     "data": {
      "text/plain": [
       "133"
      ]
     },
     "execution_count": 2,
     "metadata": {},
     "output_type": "execute_result"
    }
   ],
   "source": [
    "songs_list = ['Painkiller','Hell Patrol','All Guns Blazing','Leather Rebel','Metal Meltdown',\n",
    "              'Night Crawler','Between The Hammer & The Anvil','A Touch Of Evil','Battle Hymn','One Shot At Glory',\n",
    "             'One For The Road','Rocka Rolla','Winter','Deep Freeze','Winter Retreat','Cheater','Never Satisfied',\n",
    "              'Run Of The Mill','Dying To Meet You','Caviar And Meths','Diamonds And Rust','Victim Of Changes','The Ripper',\n",
    "              'Dreamer Deceiver','Deceiver''Prelude','Tyrant','Genocide','Epitaph','Island Of Domination','Sinner',\n",
    "              'Diamonds And Rust','Starbreaker','Last Rose of Summer','Let Us Prey','Call For The Priest','Raw Deal',\n",
    "              'Here Come The Tears','Dissident Aggressor','Exciter','White Heat', 'Red Hot','Better By You Better Than Me',\n",
    "              'Stained Class','Invader','Saints In Hell','Savage','Beyond The Realms Of Death','Heroes End','Delivering The Goods',\n",
    "              'Rock Forever','Evening Star','Hell Bent For Leather','Take On The World',\"Burnin Up\",'The Green Manalishi With The Two-Pronged Crown',\n",
    "              'Killing Machine','Running Wild','Before The Dawn','Evil Fantasies','Exciter','Breaking The Law','Rapid Fire','Metal Gods',\n",
    "              'Grinder','United','Living After Midnight','You Dont Have To Be Old To Be Wise','The Rage','Steeler','Heading Out To The Highway',\n",
    "              'Dont Go','Hot Rockin','Turning Circles','Desert Plains','Solar Angels','You Say Yes','All The Way',\n",
    "              'Troubleshooter','On The Run','The Hellion','Electric Eye','Riding On The Wind','Bloodstone','Take These Chains',\n",
    "              'Pain And Pleasure','Screaming For Vengeance','Youve Got Another Thing Coming','Fever','Devils Child',\n",
    "             'Freewheel Burning','Jawbreaker','Rock Hard Ride Free','The Sentinel','Love Bites','Eat Me Alive',\n",
    "              'Some Heads Are Gonna Roll','Night Comes Down','Heavy Duty','Defenders Of The Faith','Jugulator',\n",
    "              'Blood Stained','Dead Meat','Death Row','Decapitate','Burn in Hell','Brain Dead','Abductors','Bullet Train',\n",
    "              'Cathedral Spires','Judas Rising','Deal With The Devil','Revolution','Worth Fighting For','Demonizer',\n",
    "              'Wheels Of Fire','Angel','Hellrider','Eulogy','Lochness','Firepower','Lightning Strike','Evil Never Dies',\n",
    "              'Never the Heroes','Necromancer','Children of the Sun','Guardians','Rising from Ruins','Flame Thrower',\n",
    "              'Spectre','Traitors Gate','No Surrender','Lone Wolf','Sea of Red']\n",
    "len(songs_list)"
   ]
  },
  {
   "cell_type": "code",
   "execution_count": null,
   "id": "63f82fdd",
   "metadata": {},
   "outputs": [],
   "source": [
    "headers =  {\"User-Agent\": \"Mozilla/5.0 (Windows NT 10.0; Win64; x64) AppleWebKit/789.36 (KHTML, like Gecko) Chrome/101.0.0.0 Safari/532.36\"}\n",
    "lines = []\n",
    "for n in songs_list:\n",
    "    try:\n",
    "        lines.append('')\n",
    "        n = n.lower().split(' ')\n",
    "        n = '-'.join(n)\n",
    "        sleep(2)\n",
    "        url = f'https://genius.com/Judas-priest-{n}-lyrics'\n",
    "        response = requests.get(url, headers=headers)\n",
    "        soup = BeautifulSoup(response.text, 'lxml')\n",
    "        tbox = soup.find_all('div',class_=\"Lyrics__Container-sc-1ynbvzw-6 YYrds\") \n",
    "        for t in tbox:\n",
    "            for i in t.contents:\n",
    "                it = i.text\n",
    "                if it != '' and ('[' not in it or ']' not in it): \n",
    "                    result = it[0]\n",
    "                    for letter in it[1:]:\n",
    "                        if letter.isupper():\n",
    "                             result += f' {letter}'\n",
    "                        else:\n",
    "                            result += letter\n",
    "                    lines.append(result) \n",
    "    except:\n",
    "        pass\n",
    "    print(f'{n}')\n",
    "print('Все готово')\n",
    "print(lines)\n",
    "with open(r\"judas_priest_texts.txt\", \"w\",encoding=\"utf-8\") as file:\n",
    "    for  line in lines:\n",
    "        file.write(line + '\\n')  \n",
    "print('Файл заполнен')"
   ]
  },
  {
   "cell_type": "code",
   "execution_count": null,
   "id": "a58e1e76",
   "metadata": {},
   "outputs": [],
   "source": []
  },
  {
   "cell_type": "code",
   "execution_count": null,
   "id": "b21a2d4f",
   "metadata": {},
   "outputs": [],
   "source": []
  },
  {
   "cell_type": "code",
   "execution_count": 4,
   "id": "79c3b413",
   "metadata": {},
   "outputs": [],
   "source": []
  },
  {
   "cell_type": "code",
   "execution_count": null,
   "id": "599547f1",
   "metadata": {},
   "outputs": [],
   "source": []
  },
  {
   "cell_type": "code",
   "execution_count": null,
   "id": "9a27446d",
   "metadata": {},
   "outputs": [],
   "source": []
  }
 ],
 "metadata": {
  "kernelspec": {
   "display_name": "Python 3 (ipykernel)",
   "language": "python",
   "name": "python3"
  },
  "language_info": {
   "codemirror_mode": {
    "name": "ipython",
    "version": 3
   },
   "file_extension": ".py",
   "mimetype": "text/x-python",
   "name": "python",
   "nbconvert_exporter": "python",
   "pygments_lexer": "ipython3",
   "version": "3.9.7"
  }
 },
 "nbformat": 4,
 "nbformat_minor": 5
}
