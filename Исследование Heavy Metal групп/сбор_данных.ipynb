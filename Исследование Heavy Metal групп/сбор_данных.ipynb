{
 "cells": [
  {
   "cell_type": "code",
   "execution_count": 1,
   "id": "e485aff8",
   "metadata": {},
   "outputs": [],
   "source": [
    "from time import sleep\n",
    "import pandas as pd"
   ]
  },
  {
   "cell_type": "code",
   "execution_count": null,
   "id": "09148ecb",
   "metadata": {},
   "outputs": [],
   "source": [
    "table = pd.read_html('https://metalstorm.net/bands/index.php?b_sortby=&b_where=&b_what=&page=1')[7]\n",
    "for n in range(2,206):\n",
    "    sleep(0.5)\n",
    "    url = f'https://metalstorm.net/bands/index.php?b_sortby=&b_where=&b_what=&page={n}'\n",
    "    t = pd.read_html(url)[7]\n",
    "    table = pd.concat([table,t])\n",
    "table = table.reset_index(drop=True).drop(['Unnamed: 0','Unnamed: 1'],axis=1)\n",
    "table['Band'] = table['Band'].str.replace(r'\\d','').str.replace('-','')\n",
    "display(table.head(10))\n",
    "table.to_csv('bands_dataset.csv')"
   ]
  }
 ],
 "metadata": {
  "kernelspec": {
   "display_name": "Python 3 (ipykernel)",
   "language": "python",
   "name": "python3"
  },
  "language_info": {
   "codemirror_mode": {
    "name": "ipython",
    "version": 3
   },
   "file_extension": ".py",
   "mimetype": "text/x-python",
   "name": "python",
   "nbconvert_exporter": "python",
   "pygments_lexer": "ipython3",
   "version": "3.9.7"
  }
 },
 "nbformat": 4,
 "nbformat_minor": 5
}
